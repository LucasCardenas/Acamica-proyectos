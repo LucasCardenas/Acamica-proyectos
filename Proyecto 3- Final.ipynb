{
 "cells": [
  {
   "cell_type": "markdown",
   "id": "uniform-arbor",
   "metadata": {},
   "source": [
    "# Trabajo Sprint 3: Procesamiento de lenguaje natural"
   ]
  },
  {
   "cell_type": "markdown",
   "id": "explicit-transmission",
   "metadata": {},
   "source": [
    "## Dataset: The Multilingual Amazon Reviews Corpus\n",
    "\n",
    "Se puede encontrar el dataset [aquí](https://github.com/kang205/SASRec) y su [licencia](https://docs.opendata.aws/amazon-reviews-ml/license.txt).\n",
    "\n",
    "El conjunto de datos contiene comentarios en español, recopiladas entre el 1 de noviembre de 2015 y el 1 de noviembre de 2019. Y además, presenta las siguientes características:\n",
    "\n",
    "- `review_id`: ID del comentario.\n",
    "- `product_id`: ID del producto.\n",
    "- `reviewer_id`: ID de un revisor.\n",
    "- `stars`: número de estrellas asignadas al comentario.\n",
    "- `review_body`: texto del comentario.\n",
    "- `review_title`: título del comentario.\n",
    "- `language`: idioma del comentario.\n",
    "- `product_category`: categoría general del producto."
   ]
  },
  {
   "cell_type": "markdown",
   "id": "lyric-thickness",
   "metadata": {},
   "source": [
    "## Objetivo\n",
    "\n",
    "Implementar un modelo que dependiendo de la crítica de un producto, asigne la cantidad de estrellas correspondiente. La calificacion es entre el rango 1-5"
   ]
  },
  {
   "cell_type": "markdown",
   "id": "dense-conservation",
   "metadata": {},
   "source": [
    "## Importamos librerias y datasets"
   ]
  },
  {
   "cell_type": "code",
   "execution_count": 11,
   "id": "confidential-group",
   "metadata": {},
   "outputs": [
    {
     "name": "stderr",
     "output_type": "stream",
     "text": [
      "[nltk_data] Downloading package punkt to\n",
      "[nltk_data]     C:\\Users\\Lucas\\AppData\\Roaming\\nltk_data...\n",
      "[nltk_data]   Package punkt is already up-to-date!\n"
     ]
    },
    {
     "data": {
      "text/plain": [
       "True"
      ]
     },
     "execution_count": 11,
     "metadata": {},
     "output_type": "execute_result"
    }
   ],
   "source": [
    "import numpy as np\n",
    "import pandas as pd\n",
    "import matplotlib.pyplot as plt\n",
    "import seaborn as sns\n",
    "import spacy\n",
    "import nltk\n",
    "import re\n",
    "from nltk.util import ngrams\n",
    "from nltk.stem import PorterStemmer\n",
    "stemmer = PorterStemmer()\n",
    "nltk.download('punkt')"
   ]
  },
  {
   "cell_type": "code",
   "execution_count": 12,
   "id": "level-access",
   "metadata": {},
   "outputs": [],
   "source": [
    "dataset = pd.read_json('Dataset_es_dev.json', lines=True)"
   ]
  },
  {
   "cell_type": "code",
   "execution_count": 13,
   "id": "graphic-kentucky",
   "metadata": {},
   "outputs": [
    {
     "data": {
      "text/html": [
       "<div>\n",
       "<style scoped>\n",
       "    .dataframe tbody tr th:only-of-type {\n",
       "        vertical-align: middle;\n",
       "    }\n",
       "\n",
       "    .dataframe tbody tr th {\n",
       "        vertical-align: top;\n",
       "    }\n",
       "\n",
       "    .dataframe thead th {\n",
       "        text-align: right;\n",
       "    }\n",
       "</style>\n",
       "<table border=\"1\" class=\"dataframe\">\n",
       "  <thead>\n",
       "    <tr style=\"text-align: right;\">\n",
       "      <th></th>\n",
       "      <th>review_id</th>\n",
       "      <th>product_id</th>\n",
       "      <th>reviewer_id</th>\n",
       "      <th>stars</th>\n",
       "      <th>review_body</th>\n",
       "      <th>review_title</th>\n",
       "      <th>language</th>\n",
       "      <th>product_category</th>\n",
       "    </tr>\n",
       "  </thead>\n",
       "  <tbody>\n",
       "    <tr>\n",
       "      <th>0</th>\n",
       "      <td>es_0417480</td>\n",
       "      <td>product_es_0873923</td>\n",
       "      <td>reviewer_es_0672978</td>\n",
       "      <td>1</td>\n",
       "      <td>Malisimo, muy grande demasiado aparatoso y mal...</td>\n",
       "      <td>Mala compra</td>\n",
       "      <td>es</td>\n",
       "      <td>wireless</td>\n",
       "    </tr>\n",
       "    <tr>\n",
       "      <th>1</th>\n",
       "      <td>es_0180432</td>\n",
       "      <td>product_es_0713146</td>\n",
       "      <td>reviewer_es_0100858</td>\n",
       "      <td>1</td>\n",
       "      <td>No he recibido el pedido no la devolución</td>\n",
       "      <td>No lo he recibido</td>\n",
       "      <td>es</td>\n",
       "      <td>apparel</td>\n",
       "    </tr>\n",
       "    <tr>\n",
       "      <th>2</th>\n",
       "      <td>es_0144850</td>\n",
       "      <td>product_es_0356874</td>\n",
       "      <td>reviewer_es_0486447</td>\n",
       "      <td>1</td>\n",
       "      <td>Tengo que buscar otro sistema, este no funcion...</td>\n",
       "      <td>Que no aprieta bien en el manillar</td>\n",
       "      <td>es</td>\n",
       "      <td>sports</td>\n",
       "    </tr>\n",
       "    <tr>\n",
       "      <th>3</th>\n",
       "      <td>es_0339629</td>\n",
       "      <td>product_es_0939832</td>\n",
       "      <td>reviewer_es_0894703</td>\n",
       "      <td>1</td>\n",
       "      <td>Utilicé las brocas de menor diámetro y se me d...</td>\n",
       "      <td>Brocas de mantequilla</td>\n",
       "      <td>es</td>\n",
       "      <td>home_improvement</td>\n",
       "    </tr>\n",
       "    <tr>\n",
       "      <th>4</th>\n",
       "      <td>es_0858362</td>\n",
       "      <td>product_es_0489066</td>\n",
       "      <td>reviewer_es_0887663</td>\n",
       "      <td>1</td>\n",
       "      <td>No me gusta su olor a viejo y aspecto malo</td>\n",
       "      <td>No me gusta</td>\n",
       "      <td>es</td>\n",
       "      <td>beauty</td>\n",
       "    </tr>\n",
       "    <tr>\n",
       "      <th>...</th>\n",
       "      <td>...</td>\n",
       "      <td>...</td>\n",
       "      <td>...</td>\n",
       "      <td>...</td>\n",
       "      <td>...</td>\n",
       "      <td>...</td>\n",
       "      <td>...</td>\n",
       "      <td>...</td>\n",
       "    </tr>\n",
       "    <tr>\n",
       "      <th>4995</th>\n",
       "      <td>es_0179515</td>\n",
       "      <td>product_es_0158275</td>\n",
       "      <td>reviewer_es_0273644</td>\n",
       "      <td>5</td>\n",
       "      <td>Me ha encantado la cesta. Ha llegado impecable...</td>\n",
       "      <td>guadalupe</td>\n",
       "      <td>es</td>\n",
       "      <td>home</td>\n",
       "    </tr>\n",
       "    <tr>\n",
       "      <th>4996</th>\n",
       "      <td>es_0894902</td>\n",
       "      <td>product_es_0953259</td>\n",
       "      <td>reviewer_es_0153773</td>\n",
       "      <td>5</td>\n",
       "      <td>Desempeña su función correctamente</td>\n",
       "      <td>calidad precio</td>\n",
       "      <td>es</td>\n",
       "      <td>camera</td>\n",
       "    </tr>\n",
       "    <tr>\n",
       "      <th>4997</th>\n",
       "      <td>es_0760496</td>\n",
       "      <td>product_es_0731995</td>\n",
       "      <td>reviewer_es_0171091</td>\n",
       "      <td>5</td>\n",
       "      <td>Me ha encantado la diadema! Las flores son tal...</td>\n",
       "      <td>Excelente</td>\n",
       "      <td>es</td>\n",
       "      <td>toy</td>\n",
       "    </tr>\n",
       "    <tr>\n",
       "      <th>4998</th>\n",
       "      <td>es_0178380</td>\n",
       "      <td>product_es_0402051</td>\n",
       "      <td>reviewer_es_0686937</td>\n",
       "      <td>5</td>\n",
       "      <td>A mi me gustan mucho las fundas TPU, ya que so...</td>\n",
       "      <td>Genial</td>\n",
       "      <td>es</td>\n",
       "      <td>wireless</td>\n",
       "    </tr>\n",
       "    <tr>\n",
       "      <th>4999</th>\n",
       "      <td>es_0810087</td>\n",
       "      <td>product_es_0684221</td>\n",
       "      <td>reviewer_es_0613091</td>\n",
       "      <td>5</td>\n",
       "      <td>El artículo ha cumplido con las expectativas q...</td>\n",
       "      <td>Buena calidad</td>\n",
       "      <td>es</td>\n",
       "      <td>apparel</td>\n",
       "    </tr>\n",
       "  </tbody>\n",
       "</table>\n",
       "<p>5000 rows × 8 columns</p>\n",
       "</div>"
      ],
      "text/plain": [
       "       review_id          product_id          reviewer_id  stars  \\\n",
       "0     es_0417480  product_es_0873923  reviewer_es_0672978      1   \n",
       "1     es_0180432  product_es_0713146  reviewer_es_0100858      1   \n",
       "2     es_0144850  product_es_0356874  reviewer_es_0486447      1   \n",
       "3     es_0339629  product_es_0939832  reviewer_es_0894703      1   \n",
       "4     es_0858362  product_es_0489066  reviewer_es_0887663      1   \n",
       "...          ...                 ...                  ...    ...   \n",
       "4995  es_0179515  product_es_0158275  reviewer_es_0273644      5   \n",
       "4996  es_0894902  product_es_0953259  reviewer_es_0153773      5   \n",
       "4997  es_0760496  product_es_0731995  reviewer_es_0171091      5   \n",
       "4998  es_0178380  product_es_0402051  reviewer_es_0686937      5   \n",
       "4999  es_0810087  product_es_0684221  reviewer_es_0613091      5   \n",
       "\n",
       "                                            review_body  \\\n",
       "0     Malisimo, muy grande demasiado aparatoso y mal...   \n",
       "1             No he recibido el pedido no la devolución   \n",
       "2     Tengo que buscar otro sistema, este no funcion...   \n",
       "3     Utilicé las brocas de menor diámetro y se me d...   \n",
       "4            No me gusta su olor a viejo y aspecto malo   \n",
       "...                                                 ...   \n",
       "4995  Me ha encantado la cesta. Ha llegado impecable...   \n",
       "4996                 Desempeña su función correctamente   \n",
       "4997  Me ha encantado la diadema! Las flores son tal...   \n",
       "4998  A mi me gustan mucho las fundas TPU, ya que so...   \n",
       "4999  El artículo ha cumplido con las expectativas q...   \n",
       "\n",
       "                            review_title language  product_category  \n",
       "0                            Mala compra       es          wireless  \n",
       "1                      No lo he recibido       es           apparel  \n",
       "2     Que no aprieta bien en el manillar       es            sports  \n",
       "3                  Brocas de mantequilla       es  home_improvement  \n",
       "4                            No me gusta       es            beauty  \n",
       "...                                  ...      ...               ...  \n",
       "4995                           guadalupe       es              home  \n",
       "4996                      calidad precio       es            camera  \n",
       "4997                           Excelente       es               toy  \n",
       "4998                              Genial       es          wireless  \n",
       "4999                       Buena calidad       es           apparel  \n",
       "\n",
       "[5000 rows x 8 columns]"
      ]
     },
     "execution_count": 13,
     "metadata": {},
     "output_type": "execute_result"
    }
   ],
   "source": [
    "dataset"
   ]
  },
  {
   "cell_type": "code",
   "execution_count": 14,
   "id": "burning-genesis",
   "metadata": {},
   "outputs": [
    {
     "data": {
      "text/html": [
       "<div>\n",
       "<style scoped>\n",
       "    .dataframe tbody tr th:only-of-type {\n",
       "        vertical-align: middle;\n",
       "    }\n",
       "\n",
       "    .dataframe tbody tr th {\n",
       "        vertical-align: top;\n",
       "    }\n",
       "\n",
       "    .dataframe thead th {\n",
       "        text-align: right;\n",
       "    }\n",
       "</style>\n",
       "<table border=\"1\" class=\"dataframe\">\n",
       "  <thead>\n",
       "    <tr style=\"text-align: right;\">\n",
       "      <th></th>\n",
       "      <th>review_id</th>\n",
       "      <th>product_id</th>\n",
       "      <th>reviewer_id</th>\n",
       "      <th>stars</th>\n",
       "      <th>review_body</th>\n",
       "      <th>review_title</th>\n",
       "      <th>language</th>\n",
       "      <th>product_category</th>\n",
       "    </tr>\n",
       "  </thead>\n",
       "  <tbody>\n",
       "    <tr>\n",
       "      <th>0</th>\n",
       "      <td>es_0038754</td>\n",
       "      <td>product_es_0113523</td>\n",
       "      <td>reviewer_es_0580071</td>\n",
       "      <td>1</td>\n",
       "      <td>no me llego el articulo me lo mando por correo...</td>\n",
       "      <td>no me llego</td>\n",
       "      <td>es</td>\n",
       "      <td>wireless</td>\n",
       "    </tr>\n",
       "    <tr>\n",
       "      <th>1</th>\n",
       "      <td>es_0748979</td>\n",
       "      <td>product_es_0017036</td>\n",
       "      <td>reviewer_es_0819733</td>\n",
       "      <td>1</td>\n",
       "      <td>la mensajería horrible, no compro mas</td>\n",
       "      <td>amazon sigue sin cumplir en las entregas</td>\n",
       "      <td>es</td>\n",
       "      <td>home</td>\n",
       "    </tr>\n",
       "    <tr>\n",
       "      <th>2</th>\n",
       "      <td>es_0411746</td>\n",
       "      <td>product_es_0138642</td>\n",
       "      <td>reviewer_es_0508607</td>\n",
       "      <td>1</td>\n",
       "      <td>Estoy muy decepcionado con el vendedor ya que ...</td>\n",
       "      <td>ESTAFA EN EL ENVÍO</td>\n",
       "      <td>es</td>\n",
       "      <td>toy</td>\n",
       "    </tr>\n",
       "    <tr>\n",
       "      <th>3</th>\n",
       "      <td>es_0786686</td>\n",
       "      <td>product_es_0170887</td>\n",
       "      <td>reviewer_es_0491157</td>\n",
       "      <td>1</td>\n",
       "      <td>Mi valoración no es sobre el producto sino sob...</td>\n",
       "      <td>Estafa de Amazon</td>\n",
       "      <td>es</td>\n",
       "      <td>home</td>\n",
       "    </tr>\n",
       "    <tr>\n",
       "      <th>4</th>\n",
       "      <td>es_0429700</td>\n",
       "      <td>product_es_0710642</td>\n",
       "      <td>reviewer_es_0008745</td>\n",
       "      <td>1</td>\n",
       "      <td>Pues tenía interés en este libro y probé la ve...</td>\n",
       "      <td>No conseguí pasar de la portada en Kindle</td>\n",
       "      <td>es</td>\n",
       "      <td>digital_ebook_purchase</td>\n",
       "    </tr>\n",
       "    <tr>\n",
       "      <th>...</th>\n",
       "      <td>...</td>\n",
       "      <td>...</td>\n",
       "      <td>...</td>\n",
       "      <td>...</td>\n",
       "      <td>...</td>\n",
       "      <td>...</td>\n",
       "      <td>...</td>\n",
       "      <td>...</td>\n",
       "    </tr>\n",
       "    <tr>\n",
       "      <th>4995</th>\n",
       "      <td>es_0685611</td>\n",
       "      <td>product_es_0919143</td>\n",
       "      <td>reviewer_es_0461769</td>\n",
       "      <td>5</td>\n",
       "      <td>Para lo que cuesta es perfecto porque cumple s...</td>\n",
       "      <td>Perfectos para lo que sirven</td>\n",
       "      <td>es</td>\n",
       "      <td>wireless</td>\n",
       "    </tr>\n",
       "    <tr>\n",
       "      <th>4996</th>\n",
       "      <td>es_0638242</td>\n",
       "      <td>product_es_0636134</td>\n",
       "      <td>reviewer_es_0214562</td>\n",
       "      <td>5</td>\n",
       "      <td>Material muy flexible y cómodo, acorde a la de...</td>\n",
       "      <td>Buen vendedor, rápido y fiable.</td>\n",
       "      <td>es</td>\n",
       "      <td>wireless</td>\n",
       "    </tr>\n",
       "    <tr>\n",
       "      <th>4997</th>\n",
       "      <td>es_0760108</td>\n",
       "      <td>product_es_0078583</td>\n",
       "      <td>reviewer_es_0043609</td>\n",
       "      <td>5</td>\n",
       "      <td>Se ve bien el grabado</td>\n",
       "      <td>medallas con bonito grabado</td>\n",
       "      <td>es</td>\n",
       "      <td>home</td>\n",
       "    </tr>\n",
       "    <tr>\n",
       "      <th>4998</th>\n",
       "      <td>es_0070806</td>\n",
       "      <td>product_es_0359350</td>\n",
       "      <td>reviewer_es_0258717</td>\n",
       "      <td>5</td>\n",
       "      <td>lo compré para mi bici pero finalmente se lo h...</td>\n",
       "      <td>timbre</td>\n",
       "      <td>es</td>\n",
       "      <td>sports</td>\n",
       "    </tr>\n",
       "    <tr>\n",
       "      <th>4999</th>\n",
       "      <td>es_0794544</td>\n",
       "      <td>product_es_0130307</td>\n",
       "      <td>reviewer_es_0651938</td>\n",
       "      <td>5</td>\n",
       "      <td>Pues este tipo de cascos si que son inalambric...</td>\n",
       "      <td>Auriculares sin cables de verdad</td>\n",
       "      <td>es</td>\n",
       "      <td>electronics</td>\n",
       "    </tr>\n",
       "  </tbody>\n",
       "</table>\n",
       "<p>5000 rows × 8 columns</p>\n",
       "</div>"
      ],
      "text/plain": [
       "       review_id          product_id          reviewer_id  stars  \\\n",
       "0     es_0038754  product_es_0113523  reviewer_es_0580071      1   \n",
       "1     es_0748979  product_es_0017036  reviewer_es_0819733      1   \n",
       "2     es_0411746  product_es_0138642  reviewer_es_0508607      1   \n",
       "3     es_0786686  product_es_0170887  reviewer_es_0491157      1   \n",
       "4     es_0429700  product_es_0710642  reviewer_es_0008745      1   \n",
       "...          ...                 ...                  ...    ...   \n",
       "4995  es_0685611  product_es_0919143  reviewer_es_0461769      5   \n",
       "4996  es_0638242  product_es_0636134  reviewer_es_0214562      5   \n",
       "4997  es_0760108  product_es_0078583  reviewer_es_0043609      5   \n",
       "4998  es_0070806  product_es_0359350  reviewer_es_0258717      5   \n",
       "4999  es_0794544  product_es_0130307  reviewer_es_0651938      5   \n",
       "\n",
       "                                            review_body  \\\n",
       "0     no me llego el articulo me lo mando por correo...   \n",
       "1                 la mensajería horrible, no compro mas   \n",
       "2     Estoy muy decepcionado con el vendedor ya que ...   \n",
       "3     Mi valoración no es sobre el producto sino sob...   \n",
       "4     Pues tenía interés en este libro y probé la ve...   \n",
       "...                                                 ...   \n",
       "4995  Para lo que cuesta es perfecto porque cumple s...   \n",
       "4996  Material muy flexible y cómodo, acorde a la de...   \n",
       "4997                              Se ve bien el grabado   \n",
       "4998  lo compré para mi bici pero finalmente se lo h...   \n",
       "4999  Pues este tipo de cascos si que son inalambric...   \n",
       "\n",
       "                                   review_title language  \\\n",
       "0                                   no me llego       es   \n",
       "1      amazon sigue sin cumplir en las entregas       es   \n",
       "2                            ESTAFA EN EL ENVÍO       es   \n",
       "3                              Estafa de Amazon       es   \n",
       "4     No conseguí pasar de la portada en Kindle       es   \n",
       "...                                         ...      ...   \n",
       "4995               Perfectos para lo que sirven       es   \n",
       "4996            Buen vendedor, rápido y fiable.       es   \n",
       "4997                medallas con bonito grabado       es   \n",
       "4998                                     timbre       es   \n",
       "4999           Auriculares sin cables de verdad       es   \n",
       "\n",
       "            product_category  \n",
       "0                   wireless  \n",
       "1                       home  \n",
       "2                        toy  \n",
       "3                       home  \n",
       "4     digital_ebook_purchase  \n",
       "...                      ...  \n",
       "4995                wireless  \n",
       "4996                wireless  \n",
       "4997                    home  \n",
       "4998                  sports  \n",
       "4999             electronics  \n",
       "\n",
       "[5000 rows x 8 columns]"
      ]
     },
     "execution_count": 14,
     "metadata": {},
     "output_type": "execute_result"
    }
   ],
   "source": [
    "dataset1 = pd.read_json('Dataset_es_test.json', lines=True)\n",
    "dataset1"
   ]
  },
  {
   "cell_type": "code",
   "execution_count": 15,
   "id": "olive-hartford",
   "metadata": {},
   "outputs": [
    {
     "data": {
      "text/html": [
       "<div>\n",
       "<style scoped>\n",
       "    .dataframe tbody tr th:only-of-type {\n",
       "        vertical-align: middle;\n",
       "    }\n",
       "\n",
       "    .dataframe tbody tr th {\n",
       "        vertical-align: top;\n",
       "    }\n",
       "\n",
       "    .dataframe thead th {\n",
       "        text-align: right;\n",
       "    }\n",
       "</style>\n",
       "<table border=\"1\" class=\"dataframe\">\n",
       "  <thead>\n",
       "    <tr style=\"text-align: right;\">\n",
       "      <th></th>\n",
       "      <th>review_id</th>\n",
       "      <th>product_id</th>\n",
       "      <th>reviewer_id</th>\n",
       "      <th>stars</th>\n",
       "      <th>review_body</th>\n",
       "      <th>review_title</th>\n",
       "      <th>language</th>\n",
       "      <th>product_category</th>\n",
       "    </tr>\n",
       "  </thead>\n",
       "  <tbody>\n",
       "    <tr>\n",
       "      <th>0</th>\n",
       "      <td>es_0491108</td>\n",
       "      <td>product_es_0296024</td>\n",
       "      <td>reviewer_es_0999081</td>\n",
       "      <td>1</td>\n",
       "      <td>Nada bueno se me fue ka pantalla en menos de 8...</td>\n",
       "      <td>television Nevir</td>\n",
       "      <td>es</td>\n",
       "      <td>electronics</td>\n",
       "    </tr>\n",
       "    <tr>\n",
       "      <th>1</th>\n",
       "      <td>es_0869872</td>\n",
       "      <td>product_es_0922286</td>\n",
       "      <td>reviewer_es_0216771</td>\n",
       "      <td>1</td>\n",
       "      <td>Horrible, nos tuvimos que comprar otro porque ...</td>\n",
       "      <td>Dinero tirado a la basura con esta compra</td>\n",
       "      <td>es</td>\n",
       "      <td>electronics</td>\n",
       "    </tr>\n",
       "    <tr>\n",
       "      <th>2</th>\n",
       "      <td>es_0811721</td>\n",
       "      <td>product_es_0474543</td>\n",
       "      <td>reviewer_es_0929213</td>\n",
       "      <td>1</td>\n",
       "      <td>Te obligan a comprar dos unidades y te llega s...</td>\n",
       "      <td>solo llega una unidad cuando te obligan a comp...</td>\n",
       "      <td>es</td>\n",
       "      <td>drugstore</td>\n",
       "    </tr>\n",
       "    <tr>\n",
       "      <th>3</th>\n",
       "      <td>es_0359921</td>\n",
       "      <td>product_es_0656090</td>\n",
       "      <td>reviewer_es_0224702</td>\n",
       "      <td>1</td>\n",
       "      <td>No entro en descalificar al vendedor, solo pue...</td>\n",
       "      <td>PRODUCTO NO RECIBIDO.</td>\n",
       "      <td>es</td>\n",
       "      <td>wireless</td>\n",
       "    </tr>\n",
       "    <tr>\n",
       "      <th>4</th>\n",
       "      <td>es_0068940</td>\n",
       "      <td>product_es_0662544</td>\n",
       "      <td>reviewer_es_0224827</td>\n",
       "      <td>1</td>\n",
       "      <td>Llega tarde y co la talla equivocada</td>\n",
       "      <td>Devuelto</td>\n",
       "      <td>es</td>\n",
       "      <td>shoes</td>\n",
       "    </tr>\n",
       "    <tr>\n",
       "      <th>...</th>\n",
       "      <td>...</td>\n",
       "      <td>...</td>\n",
       "      <td>...</td>\n",
       "      <td>...</td>\n",
       "      <td>...</td>\n",
       "      <td>...</td>\n",
       "      <td>...</td>\n",
       "      <td>...</td>\n",
       "    </tr>\n",
       "    <tr>\n",
       "      <th>199995</th>\n",
       "      <td>es_0715276</td>\n",
       "      <td>product_es_0317036</td>\n",
       "      <td>reviewer_es_0643604</td>\n",
       "      <td>5</td>\n",
       "      <td>Mando funciona perfectamente y cumple con toda...</td>\n",
       "      <td>Tal y como se describe</td>\n",
       "      <td>es</td>\n",
       "      <td>electronics</td>\n",
       "    </tr>\n",
       "    <tr>\n",
       "      <th>199996</th>\n",
       "      <td>es_0085190</td>\n",
       "      <td>product_es_0622919</td>\n",
       "      <td>reviewer_es_0466173</td>\n",
       "      <td>5</td>\n",
       "      <td>Compré la batería con cierta reticencia, pero ...</td>\n",
       "      <td>Funciona perfectamente</td>\n",
       "      <td>es</td>\n",
       "      <td>electronics</td>\n",
       "    </tr>\n",
       "    <tr>\n",
       "      <th>199997</th>\n",
       "      <td>es_0484496</td>\n",
       "      <td>product_es_0358101</td>\n",
       "      <td>reviewer_es_0330744</td>\n",
       "      <td>5</td>\n",
       "      <td>Buena calidad. Satisfecha con la compra.</td>\n",
       "      <td>Buena calidad.</td>\n",
       "      <td>es</td>\n",
       "      <td>apparel</td>\n",
       "    </tr>\n",
       "    <tr>\n",
       "      <th>199998</th>\n",
       "      <td>es_0930141</td>\n",
       "      <td>product_es_0788855</td>\n",
       "      <td>reviewer_es_0694290</td>\n",
       "      <td>5</td>\n",
       "      <td>Perfecto para el cumple de mi hijo</td>\n",
       "      <td>Recomendado</td>\n",
       "      <td>es</td>\n",
       "      <td>toy</td>\n",
       "    </tr>\n",
       "    <tr>\n",
       "      <th>199999</th>\n",
       "      <td>es_0859809</td>\n",
       "      <td>product_es_0378794</td>\n",
       "      <td>reviewer_es_0141717</td>\n",
       "      <td>5</td>\n",
       "      <td>Súper bien! Las brochas son buenas, no sé meno...</td>\n",
       "      <td>Preciosas</td>\n",
       "      <td>es</td>\n",
       "      <td>home</td>\n",
       "    </tr>\n",
       "  </tbody>\n",
       "</table>\n",
       "<p>200000 rows × 8 columns</p>\n",
       "</div>"
      ],
      "text/plain": [
       "         review_id          product_id          reviewer_id  stars  \\\n",
       "0       es_0491108  product_es_0296024  reviewer_es_0999081      1   \n",
       "1       es_0869872  product_es_0922286  reviewer_es_0216771      1   \n",
       "2       es_0811721  product_es_0474543  reviewer_es_0929213      1   \n",
       "3       es_0359921  product_es_0656090  reviewer_es_0224702      1   \n",
       "4       es_0068940  product_es_0662544  reviewer_es_0224827      1   \n",
       "...            ...                 ...                  ...    ...   \n",
       "199995  es_0715276  product_es_0317036  reviewer_es_0643604      5   \n",
       "199996  es_0085190  product_es_0622919  reviewer_es_0466173      5   \n",
       "199997  es_0484496  product_es_0358101  reviewer_es_0330744      5   \n",
       "199998  es_0930141  product_es_0788855  reviewer_es_0694290      5   \n",
       "199999  es_0859809  product_es_0378794  reviewer_es_0141717      5   \n",
       "\n",
       "                                              review_body  \\\n",
       "0       Nada bueno se me fue ka pantalla en menos de 8...   \n",
       "1       Horrible, nos tuvimos que comprar otro porque ...   \n",
       "2       Te obligan a comprar dos unidades y te llega s...   \n",
       "3       No entro en descalificar al vendedor, solo pue...   \n",
       "4                    Llega tarde y co la talla equivocada   \n",
       "...                                                   ...   \n",
       "199995  Mando funciona perfectamente y cumple con toda...   \n",
       "199996  Compré la batería con cierta reticencia, pero ...   \n",
       "199997           Buena calidad. Satisfecha con la compra.   \n",
       "199998                 Perfecto para el cumple de mi hijo   \n",
       "199999  Súper bien! Las brochas son buenas, no sé meno...   \n",
       "\n",
       "                                             review_title language  \\\n",
       "0                                        television Nevir       es   \n",
       "1               Dinero tirado a la basura con esta compra       es   \n",
       "2       solo llega una unidad cuando te obligan a comp...       es   \n",
       "3                                   PRODUCTO NO RECIBIDO.       es   \n",
       "4                                                Devuelto       es   \n",
       "...                                                   ...      ...   \n",
       "199995                             Tal y como se describe       es   \n",
       "199996                             Funciona perfectamente       es   \n",
       "199997                                     Buena calidad.       es   \n",
       "199998                                        Recomendado       es   \n",
       "199999                                          Preciosas       es   \n",
       "\n",
       "       product_category  \n",
       "0           electronics  \n",
       "1           electronics  \n",
       "2             drugstore  \n",
       "3              wireless  \n",
       "4                 shoes  \n",
       "...                 ...  \n",
       "199995      electronics  \n",
       "199996      electronics  \n",
       "199997          apparel  \n",
       "199998              toy  \n",
       "199999             home  \n",
       "\n",
       "[200000 rows x 8 columns]"
      ]
     },
     "execution_count": 15,
     "metadata": {},
     "output_type": "execute_result"
    }
   ],
   "source": [
    "dataset2 = pd.read_json('Dataset_es_train.json', lines=True)\n",
    "dataset2"
   ]
  },
  {
   "cell_type": "markdown",
   "id": "hearing-heading",
   "metadata": {},
   "source": [
    "Contamos con tres datasets, dos de ellos contienen 5000 instancias y el tercero 200000 instancias, todos tienen 8 columnas y son iguales para todos los datasets"
   ]
  },
  {
   "cell_type": "code",
   "execution_count": 16,
   "id": "driving-annotation",
   "metadata": {},
   "outputs": [],
   "source": [
    " #frames = [dataset,dataset1]\n",
    " #df_base = pd.concat(frames)\n",
    " #df_base.shape"
   ]
  },
  {
   "cell_type": "markdown",
   "id": "angry-forward",
   "metadata": {},
   "source": [
    "## Definimos el primer dataset para trabajar, usaremos el de 200000 instancias"
   ]
  },
  {
   "cell_type": "code",
   "execution_count": 17,
   "id": "solid-cisco",
   "metadata": {},
   "outputs": [
    {
     "data": {
      "text/html": [
       "<div>\n",
       "<style scoped>\n",
       "    .dataframe tbody tr th:only-of-type {\n",
       "        vertical-align: middle;\n",
       "    }\n",
       "\n",
       "    .dataframe tbody tr th {\n",
       "        vertical-align: top;\n",
       "    }\n",
       "\n",
       "    .dataframe thead th {\n",
       "        text-align: right;\n",
       "    }\n",
       "</style>\n",
       "<table border=\"1\" class=\"dataframe\">\n",
       "  <thead>\n",
       "    <tr style=\"text-align: right;\">\n",
       "      <th></th>\n",
       "      <th>index</th>\n",
       "      <th>review_id</th>\n",
       "      <th>product_id</th>\n",
       "      <th>reviewer_id</th>\n",
       "      <th>stars</th>\n",
       "      <th>review_body</th>\n",
       "      <th>review_title</th>\n",
       "      <th>language</th>\n",
       "      <th>product_category</th>\n",
       "    </tr>\n",
       "  </thead>\n",
       "  <tbody>\n",
       "    <tr>\n",
       "      <th>0</th>\n",
       "      <td>0</td>\n",
       "      <td>es_0491108</td>\n",
       "      <td>product_es_0296024</td>\n",
       "      <td>reviewer_es_0999081</td>\n",
       "      <td>1</td>\n",
       "      <td>Nada bueno se me fue ka pantalla en menos de 8...</td>\n",
       "      <td>television Nevir</td>\n",
       "      <td>es</td>\n",
       "      <td>electronics</td>\n",
       "    </tr>\n",
       "    <tr>\n",
       "      <th>1</th>\n",
       "      <td>1</td>\n",
       "      <td>es_0869872</td>\n",
       "      <td>product_es_0922286</td>\n",
       "      <td>reviewer_es_0216771</td>\n",
       "      <td>1</td>\n",
       "      <td>Horrible, nos tuvimos que comprar otro porque ...</td>\n",
       "      <td>Dinero tirado a la basura con esta compra</td>\n",
       "      <td>es</td>\n",
       "      <td>electronics</td>\n",
       "    </tr>\n",
       "    <tr>\n",
       "      <th>2</th>\n",
       "      <td>2</td>\n",
       "      <td>es_0811721</td>\n",
       "      <td>product_es_0474543</td>\n",
       "      <td>reviewer_es_0929213</td>\n",
       "      <td>1</td>\n",
       "      <td>Te obligan a comprar dos unidades y te llega s...</td>\n",
       "      <td>solo llega una unidad cuando te obligan a comp...</td>\n",
       "      <td>es</td>\n",
       "      <td>drugstore</td>\n",
       "    </tr>\n",
       "    <tr>\n",
       "      <th>3</th>\n",
       "      <td>3</td>\n",
       "      <td>es_0359921</td>\n",
       "      <td>product_es_0656090</td>\n",
       "      <td>reviewer_es_0224702</td>\n",
       "      <td>1</td>\n",
       "      <td>No entro en descalificar al vendedor, solo pue...</td>\n",
       "      <td>PRODUCTO NO RECIBIDO.</td>\n",
       "      <td>es</td>\n",
       "      <td>wireless</td>\n",
       "    </tr>\n",
       "    <tr>\n",
       "      <th>4</th>\n",
       "      <td>4</td>\n",
       "      <td>es_0068940</td>\n",
       "      <td>product_es_0662544</td>\n",
       "      <td>reviewer_es_0224827</td>\n",
       "      <td>1</td>\n",
       "      <td>Llega tarde y co la talla equivocada</td>\n",
       "      <td>Devuelto</td>\n",
       "      <td>es</td>\n",
       "      <td>shoes</td>\n",
       "    </tr>\n",
       "  </tbody>\n",
       "</table>\n",
       "</div>"
      ],
      "text/plain": [
       "   index   review_id          product_id          reviewer_id  stars  \\\n",
       "0      0  es_0491108  product_es_0296024  reviewer_es_0999081      1   \n",
       "1      1  es_0869872  product_es_0922286  reviewer_es_0216771      1   \n",
       "2      2  es_0811721  product_es_0474543  reviewer_es_0929213      1   \n",
       "3      3  es_0359921  product_es_0656090  reviewer_es_0224702      1   \n",
       "4      4  es_0068940  product_es_0662544  reviewer_es_0224827      1   \n",
       "\n",
       "                                         review_body  \\\n",
       "0  Nada bueno se me fue ka pantalla en menos de 8...   \n",
       "1  Horrible, nos tuvimos que comprar otro porque ...   \n",
       "2  Te obligan a comprar dos unidades y te llega s...   \n",
       "3  No entro en descalificar al vendedor, solo pue...   \n",
       "4               Llega tarde y co la talla equivocada   \n",
       "\n",
       "                                        review_title language product_category  \n",
       "0                                   television Nevir       es      electronics  \n",
       "1          Dinero tirado a la basura con esta compra       es      electronics  \n",
       "2  solo llega una unidad cuando te obligan a comp...       es        drugstore  \n",
       "3                              PRODUCTO NO RECIBIDO.       es         wireless  \n",
       "4                                           Devuelto       es            shoes  "
      ]
     },
     "execution_count": 17,
     "metadata": {},
     "output_type": "execute_result"
    }
   ],
   "source": [
    "df_base= dataset2.copy()\n",
    "df_base= dataset2.dropna()\n",
    "df_base= dataset2.reset_index()\n",
    "df_base.head()"
   ]
  },
  {
   "cell_type": "code",
   "execution_count": 18,
   "id": "enormous-cleaner",
   "metadata": {},
   "outputs": [],
   "source": [
    "df_base=df_base.drop(columns=[\"review_id\"])"
   ]
  },
  {
   "cell_type": "code",
   "execution_count": 19,
   "id": "illegal-homework",
   "metadata": {},
   "outputs": [
    {
     "data": {
      "text/plain": [
       "(200000, 8)"
      ]
     },
     "execution_count": 19,
     "metadata": {},
     "output_type": "execute_result"
    }
   ],
   "source": [
    "df_base.shape"
   ]
  },
  {
   "cell_type": "markdown",
   "id": "affiliated-affair",
   "metadata": {},
   "source": [
    "## Procedemos a hacer un analisis exploratorio de los datos"
   ]
  },
  {
   "cell_type": "markdown",
   "id": "minute-newsletter",
   "metadata": {},
   "source": [
    "### Vemos informacion general, si tiene faltantes y los datos estadisticos relevantes"
   ]
  },
  {
   "cell_type": "code",
   "execution_count": 20,
   "id": "irish-liver",
   "metadata": {},
   "outputs": [
    {
     "name": "stdout",
     "output_type": "stream",
     "text": [
      "<class 'pandas.core.frame.DataFrame'>\n",
      "RangeIndex: 200000 entries, 0 to 199999\n",
      "Data columns (total 8 columns):\n",
      " #   Column            Non-Null Count   Dtype \n",
      "---  ------            --------------   ----- \n",
      " 0   index             200000 non-null  int64 \n",
      " 1   product_id        200000 non-null  object\n",
      " 2   reviewer_id       200000 non-null  object\n",
      " 3   stars             200000 non-null  int64 \n",
      " 4   review_body       200000 non-null  object\n",
      " 5   review_title      200000 non-null  object\n",
      " 6   language          200000 non-null  object\n",
      " 7   product_category  200000 non-null  object\n",
      "dtypes: int64(2), object(6)\n",
      "memory usage: 12.2+ MB\n"
     ]
    }
   ],
   "source": [
    "#Información general de los datos\n",
    "df_base.info()"
   ]
  },
  {
   "cell_type": "code",
   "execution_count": 21,
   "id": "adjacent-manitoba",
   "metadata": {},
   "outputs": [
    {
     "data": {
      "text/plain": [
       "index               0\n",
       "product_id          0\n",
       "reviewer_id         0\n",
       "stars               0\n",
       "review_body         0\n",
       "review_title        0\n",
       "language            0\n",
       "product_category    0\n",
       "dtype: int64"
      ]
     },
     "execution_count": 21,
     "metadata": {},
     "output_type": "execute_result"
    }
   ],
   "source": [
    "df_base.isna().sum()"
   ]
  },
  {
   "cell_type": "code",
   "execution_count": 22,
   "id": "induced-figure",
   "metadata": {},
   "outputs": [
    {
     "data": {
      "text/html": [
       "<div>\n",
       "<style scoped>\n",
       "    .dataframe tbody tr th:only-of-type {\n",
       "        vertical-align: middle;\n",
       "    }\n",
       "\n",
       "    .dataframe tbody tr th {\n",
       "        vertical-align: top;\n",
       "    }\n",
       "\n",
       "    .dataframe thead th {\n",
       "        text-align: right;\n",
       "    }\n",
       "</style>\n",
       "<table border=\"1\" class=\"dataframe\">\n",
       "  <thead>\n",
       "    <tr style=\"text-align: right;\">\n",
       "      <th></th>\n",
       "      <th>index</th>\n",
       "      <th>stars</th>\n",
       "    </tr>\n",
       "  </thead>\n",
       "  <tbody>\n",
       "    <tr>\n",
       "      <th>count</th>\n",
       "      <td>200000.000000</td>\n",
       "      <td>200000.000000</td>\n",
       "    </tr>\n",
       "    <tr>\n",
       "      <th>mean</th>\n",
       "      <td>99999.500000</td>\n",
       "      <td>3.000000</td>\n",
       "    </tr>\n",
       "    <tr>\n",
       "      <th>std</th>\n",
       "      <td>57735.171256</td>\n",
       "      <td>1.414217</td>\n",
       "    </tr>\n",
       "    <tr>\n",
       "      <th>min</th>\n",
       "      <td>0.000000</td>\n",
       "      <td>1.000000</td>\n",
       "    </tr>\n",
       "    <tr>\n",
       "      <th>25%</th>\n",
       "      <td>49999.750000</td>\n",
       "      <td>2.000000</td>\n",
       "    </tr>\n",
       "    <tr>\n",
       "      <th>50%</th>\n",
       "      <td>99999.500000</td>\n",
       "      <td>3.000000</td>\n",
       "    </tr>\n",
       "    <tr>\n",
       "      <th>75%</th>\n",
       "      <td>149999.250000</td>\n",
       "      <td>4.000000</td>\n",
       "    </tr>\n",
       "    <tr>\n",
       "      <th>max</th>\n",
       "      <td>199999.000000</td>\n",
       "      <td>5.000000</td>\n",
       "    </tr>\n",
       "  </tbody>\n",
       "</table>\n",
       "</div>"
      ],
      "text/plain": [
       "               index          stars\n",
       "count  200000.000000  200000.000000\n",
       "mean    99999.500000       3.000000\n",
       "std     57735.171256       1.414217\n",
       "min         0.000000       1.000000\n",
       "25%     49999.750000       2.000000\n",
       "50%     99999.500000       3.000000\n",
       "75%    149999.250000       4.000000\n",
       "max    199999.000000       5.000000"
      ]
     },
     "execution_count": 22,
     "metadata": {},
     "output_type": "execute_result"
    }
   ],
   "source": [
    "df_base.describe()"
   ]
  },
  {
   "cell_type": "markdown",
   "id": "fitting-directive",
   "metadata": {},
   "source": [
    "### Debemos observar si la variable stars esta balanceada, para eso graficaremos"
   ]
  },
  {
   "cell_type": "code",
   "execution_count": 23,
   "id": "alternative-claim",
   "metadata": {},
   "outputs": [
    {
     "data": {
      "image/png": "[encoded data removed]",
      "text/plain": [
       "<Figure size 432x288 with 1 Axes>"
      ]
     },
     "metadata": {
      "needs_background": "light"
     },
     "output_type": "display_data"
    }
   ],
   "source": [
    "sns.countplot(x=df_base['stars'])\n",
    "plt.show()"
   ]
  },
  {
   "cell_type": "markdown",
   "id": "designing-domain",
   "metadata": {},
   "source": [
    "### Podemos ver que estan balanceados a cuarenta mil instancias cada star"
   ]
  },
  {
   "cell_type": "markdown",
   "id": "pleasant-cocktail",
   "metadata": {},
   "source": [
    "### Veremos algun comentario al azar y los titulos que mas se repiten "
   ]
  },
  {
   "cell_type": "code",
   "execution_count": 24,
   "id": "complimentary-consciousness",
   "metadata": {},
   "outputs": [
    {
     "name": "stdout",
     "output_type": "stream",
     "text": [
      "751 Lo iba a usar solo para el hospital cuando diese a luz, y la calidad es tan mal, que se descosió y rompió el mismo día. Por lo tanto lo he tenido que tirar con 1 solo uso.\n"
     ]
    }
   ],
   "source": [
    "index_random = np.random.randint(0,5000)\n",
    "review = df_base.review_body.iloc[index_random]\n",
    "print(index_random, review)"
   ]
  },
  {
   "cell_type": "code",
   "execution_count": 25,
   "id": "green-visiting",
   "metadata": {},
   "outputs": [
    {
     "name": "stdout",
     "output_type": "stream",
     "text": [
      "751 1\n"
     ]
    }
   ],
   "source": [
    "print(index_random, df_base.stars.iloc[index_random,])"
   ]
  },
  {
   "cell_type": "code",
   "execution_count": 26,
   "id": "baking-kenya",
   "metadata": {},
   "outputs": [
    {
     "data": {
      "text/plain": [
       "review_title\n",
       "Bien                             1952\n",
       "Perfecto                         1768\n",
       "Buen producto                    1484\n",
       "Regular                          1283\n",
       "Buena compra                     1206\n",
       "Mala calidad                     1040\n",
       "Genial                            850\n",
       "Correcto                          831\n",
       "Buena calidad                     801\n",
       "Bueno                             676\n",
       "Muy bien                          621\n",
       "Recomendable                      604\n",
       "No funciona                       508\n",
       "No lo recomiendo                  480\n",
       "Muy bueno                         462\n",
       "Decepción                         455\n",
       "Excelente                         412\n",
       "Aceptable                         400\n",
       "Buena relación calidad precio     398\n",
       "Cumple su función                 394\n",
       "Name: review_title, dtype: int64"
      ]
     },
     "execution_count": 26,
     "metadata": {},
     "output_type": "execute_result"
    }
   ],
   "source": [
    "titles_words = df_base.groupby('review_title')['review_title'].count()\n",
    "titles_words = titles_words.sort_values(ascending=False)\n",
    "titles_words.head(20)"
   ]
  },
  {
   "cell_type": "markdown",
   "id": "personalized-logistics",
   "metadata": {},
   "source": [
    "###  Agruparemos por categoria de producto y los ordenaremos por cantidad de estrellas"
   ]
  },
  {
   "cell_type": "code",
   "execution_count": 27,
   "id": "boolean-valentine",
   "metadata": {},
   "outputs": [
    {
     "data": {
      "text/plain": [
       "product_category\n",
       "home                26962\n",
       "wireless            25886\n",
       "toy                 13647\n",
       "sports              13189\n",
       "pc                  11191\n",
       "home_improvement    10879\n",
       "electronics         10385\n",
       "beauty               7337\n",
       "automotive           7143\n",
       "kitchen              6695\n",
       "Name: product_category, dtype: int64"
      ]
     },
     "execution_count": 27,
     "metadata": {},
     "output_type": "execute_result"
    }
   ],
   "source": [
    "categorias = df_base.groupby('product_category')['product_category'].count()\n",
    "categorias = categorias.sort_values(ascending=False)\n",
    "categorias.head(10)"
   ]
  },
  {
   "cell_type": "code",
   "execution_count": 28,
   "id": "three-imaging",
   "metadata": {},
   "outputs": [],
   "source": [
    "category_stars = pd.crosstab(index=df_base['product_category'],\n",
    "            columns=df_base['stars'], margins=True)"
   ]
  },
  {
   "cell_type": "code",
   "execution_count": 29,
   "id": "outer-cycling",
   "metadata": {},
   "outputs": [
    {
     "data": {
      "text/html": [
       "<div>\n",
       "<style scoped>\n",
       "    .dataframe tbody tr th:only-of-type {\n",
       "        vertical-align: middle;\n",
       "    }\n",
       "\n",
       "    .dataframe tbody tr th {\n",
       "        vertical-align: top;\n",
       "    }\n",
       "\n",
       "    .dataframe thead th {\n",
       "        text-align: right;\n",
       "    }\n",
       "</style>\n",
       "<table border=\"1\" class=\"dataframe\">\n",
       "  <thead>\n",
       "    <tr style=\"text-align: right;\">\n",
       "      <th>stars</th>\n",
       "      <th>1</th>\n",
       "      <th>2</th>\n",
       "      <th>3</th>\n",
       "      <th>4</th>\n",
       "      <th>5</th>\n",
       "      <th>All</th>\n",
       "    </tr>\n",
       "    <tr>\n",
       "      <th>product_category</th>\n",
       "      <th></th>\n",
       "      <th></th>\n",
       "      <th></th>\n",
       "      <th></th>\n",
       "      <th></th>\n",
       "      <th></th>\n",
       "    </tr>\n",
       "  </thead>\n",
       "  <tbody>\n",
       "    <tr>\n",
       "      <th>apparel</th>\n",
       "      <td>1273</td>\n",
       "      <td>1205</td>\n",
       "      <td>1200</td>\n",
       "      <td>1131</td>\n",
       "      <td>928</td>\n",
       "      <td>5737</td>\n",
       "    </tr>\n",
       "    <tr>\n",
       "      <th>automotive</th>\n",
       "      <td>1515</td>\n",
       "      <td>1389</td>\n",
       "      <td>1485</td>\n",
       "      <td>1441</td>\n",
       "      <td>1313</td>\n",
       "      <td>7143</td>\n",
       "    </tr>\n",
       "    <tr>\n",
       "      <th>baby_product</th>\n",
       "      <td>830</td>\n",
       "      <td>965</td>\n",
       "      <td>1056</td>\n",
       "      <td>999</td>\n",
       "      <td>1031</td>\n",
       "      <td>4881</td>\n",
       "    </tr>\n",
       "    <tr>\n",
       "      <th>beauty</th>\n",
       "      <td>1546</td>\n",
       "      <td>1527</td>\n",
       "      <td>1539</td>\n",
       "      <td>1302</td>\n",
       "      <td>1423</td>\n",
       "      <td>7337</td>\n",
       "    </tr>\n",
       "    <tr>\n",
       "      <th>book</th>\n",
       "      <td>659</td>\n",
       "      <td>896</td>\n",
       "      <td>998</td>\n",
       "      <td>1106</td>\n",
       "      <td>1605</td>\n",
       "      <td>5264</td>\n",
       "    </tr>\n",
       "    <tr>\n",
       "      <th>camera</th>\n",
       "      <td>536</td>\n",
       "      <td>564</td>\n",
       "      <td>604</td>\n",
       "      <td>683</td>\n",
       "      <td>642</td>\n",
       "      <td>3029</td>\n",
       "    </tr>\n",
       "    <tr>\n",
       "      <th>digital_ebook_purchase</th>\n",
       "      <td>182</td>\n",
       "      <td>318</td>\n",
       "      <td>443</td>\n",
       "      <td>460</td>\n",
       "      <td>440</td>\n",
       "      <td>1843</td>\n",
       "    </tr>\n",
       "    <tr>\n",
       "      <th>drugstore</th>\n",
       "      <td>1117</td>\n",
       "      <td>1088</td>\n",
       "      <td>1101</td>\n",
       "      <td>1034</td>\n",
       "      <td>1173</td>\n",
       "      <td>5513</td>\n",
       "    </tr>\n",
       "    <tr>\n",
       "      <th>electronics</th>\n",
       "      <td>2402</td>\n",
       "      <td>2188</td>\n",
       "      <td>1902</td>\n",
       "      <td>1961</td>\n",
       "      <td>1932</td>\n",
       "      <td>10385</td>\n",
       "    </tr>\n",
       "    <tr>\n",
       "      <th>furniture</th>\n",
       "      <td>906</td>\n",
       "      <td>1046</td>\n",
       "      <td>1129</td>\n",
       "      <td>1182</td>\n",
       "      <td>966</td>\n",
       "      <td>5229</td>\n",
       "    </tr>\n",
       "    <tr>\n",
       "      <th>grocery</th>\n",
       "      <td>176</td>\n",
       "      <td>202</td>\n",
       "      <td>215</td>\n",
       "      <td>194</td>\n",
       "      <td>257</td>\n",
       "      <td>1044</td>\n",
       "    </tr>\n",
       "    <tr>\n",
       "      <th>home</th>\n",
       "      <td>5391</td>\n",
       "      <td>5542</td>\n",
       "      <td>5477</td>\n",
       "      <td>5309</td>\n",
       "      <td>5243</td>\n",
       "      <td>26962</td>\n",
       "    </tr>\n",
       "    <tr>\n",
       "      <th>home_improvement</th>\n",
       "      <td>2162</td>\n",
       "      <td>1987</td>\n",
       "      <td>2188</td>\n",
       "      <td>2375</td>\n",
       "      <td>2167</td>\n",
       "      <td>10879</td>\n",
       "    </tr>\n",
       "    <tr>\n",
       "      <th>industrial_supplies</th>\n",
       "      <td>256</td>\n",
       "      <td>278</td>\n",
       "      <td>338</td>\n",
       "      <td>313</td>\n",
       "      <td>297</td>\n",
       "      <td>1482</td>\n",
       "    </tr>\n",
       "    <tr>\n",
       "      <th>jewelry</th>\n",
       "      <td>332</td>\n",
       "      <td>328</td>\n",
       "      <td>358</td>\n",
       "      <td>279</td>\n",
       "      <td>301</td>\n",
       "      <td>1598</td>\n",
       "    </tr>\n",
       "    <tr>\n",
       "      <th>kitchen</th>\n",
       "      <td>1322</td>\n",
       "      <td>1331</td>\n",
       "      <td>1281</td>\n",
       "      <td>1438</td>\n",
       "      <td>1323</td>\n",
       "      <td>6695</td>\n",
       "    </tr>\n",
       "    <tr>\n",
       "      <th>lawn_and_garden</th>\n",
       "      <td>1082</td>\n",
       "      <td>922</td>\n",
       "      <td>796</td>\n",
       "      <td>749</td>\n",
       "      <td>688</td>\n",
       "      <td>4237</td>\n",
       "    </tr>\n",
       "    <tr>\n",
       "      <th>luggage</th>\n",
       "      <td>451</td>\n",
       "      <td>582</td>\n",
       "      <td>652</td>\n",
       "      <td>825</td>\n",
       "      <td>818</td>\n",
       "      <td>3328</td>\n",
       "    </tr>\n",
       "    <tr>\n",
       "      <th>musical_instruments</th>\n",
       "      <td>234</td>\n",
       "      <td>273</td>\n",
       "      <td>299</td>\n",
       "      <td>362</td>\n",
       "      <td>362</td>\n",
       "      <td>1530</td>\n",
       "    </tr>\n",
       "    <tr>\n",
       "      <th>office_product</th>\n",
       "      <td>864</td>\n",
       "      <td>914</td>\n",
       "      <td>971</td>\n",
       "      <td>989</td>\n",
       "      <td>1033</td>\n",
       "      <td>4771</td>\n",
       "    </tr>\n",
       "    <tr>\n",
       "      <th>other</th>\n",
       "      <td>789</td>\n",
       "      <td>705</td>\n",
       "      <td>786</td>\n",
       "      <td>717</td>\n",
       "      <td>940</td>\n",
       "      <td>3937</td>\n",
       "    </tr>\n",
       "    <tr>\n",
       "      <th>pc</th>\n",
       "      <td>2220</td>\n",
       "      <td>2149</td>\n",
       "      <td>1988</td>\n",
       "      <td>2379</td>\n",
       "      <td>2455</td>\n",
       "      <td>11191</td>\n",
       "    </tr>\n",
       "    <tr>\n",
       "      <th>personal_care_appliances</th>\n",
       "      <td>693</td>\n",
       "      <td>733</td>\n",
       "      <td>684</td>\n",
       "      <td>725</td>\n",
       "      <td>738</td>\n",
       "      <td>3573</td>\n",
       "    </tr>\n",
       "    <tr>\n",
       "      <th>pet_products</th>\n",
       "      <td>714</td>\n",
       "      <td>787</td>\n",
       "      <td>771</td>\n",
       "      <td>700</td>\n",
       "      <td>741</td>\n",
       "      <td>3713</td>\n",
       "    </tr>\n",
       "    <tr>\n",
       "      <th>shoes</th>\n",
       "      <td>467</td>\n",
       "      <td>541</td>\n",
       "      <td>552</td>\n",
       "      <td>612</td>\n",
       "      <td>582</td>\n",
       "      <td>2754</td>\n",
       "    </tr>\n",
       "    <tr>\n",
       "      <th>sports</th>\n",
       "      <td>2438</td>\n",
       "      <td>2551</td>\n",
       "      <td>2828</td>\n",
       "      <td>2860</td>\n",
       "      <td>2512</td>\n",
       "      <td>13189</td>\n",
       "    </tr>\n",
       "    <tr>\n",
       "      <th>toy</th>\n",
       "      <td>2503</td>\n",
       "      <td>2713</td>\n",
       "      <td>2965</td>\n",
       "      <td>2639</td>\n",
       "      <td>2827</td>\n",
       "      <td>13647</td>\n",
       "    </tr>\n",
       "    <tr>\n",
       "      <th>video_games</th>\n",
       "      <td>351</td>\n",
       "      <td>309</td>\n",
       "      <td>305</td>\n",
       "      <td>309</td>\n",
       "      <td>459</td>\n",
       "      <td>1733</td>\n",
       "    </tr>\n",
       "    <tr>\n",
       "      <th>watch</th>\n",
       "      <td>306</td>\n",
       "      <td>283</td>\n",
       "      <td>292</td>\n",
       "      <td>321</td>\n",
       "      <td>288</td>\n",
       "      <td>1490</td>\n",
       "    </tr>\n",
       "    <tr>\n",
       "      <th>wireless</th>\n",
       "      <td>6283</td>\n",
       "      <td>5684</td>\n",
       "      <td>4797</td>\n",
       "      <td>4606</td>\n",
       "      <td>4516</td>\n",
       "      <td>25886</td>\n",
       "    </tr>\n",
       "    <tr>\n",
       "      <th>All</th>\n",
       "      <td>40000</td>\n",
       "      <td>40000</td>\n",
       "      <td>40000</td>\n",
       "      <td>40000</td>\n",
       "      <td>40000</td>\n",
       "      <td>200000</td>\n",
       "    </tr>\n",
       "  </tbody>\n",
       "</table>\n",
       "</div>"
      ],
      "text/plain": [
       "stars                         1      2      3      4      5     All\n",
       "product_category                                                   \n",
       "apparel                    1273   1205   1200   1131    928    5737\n",
       "automotive                 1515   1389   1485   1441   1313    7143\n",
       "baby_product                830    965   1056    999   1031    4881\n",
       "beauty                     1546   1527   1539   1302   1423    7337\n",
       "book                        659    896    998   1106   1605    5264\n",
       "camera                      536    564    604    683    642    3029\n",
       "digital_ebook_purchase      182    318    443    460    440    1843\n",
       "drugstore                  1117   1088   1101   1034   1173    5513\n",
       "electronics                2402   2188   1902   1961   1932   10385\n",
       "furniture                   906   1046   1129   1182    966    5229\n",
       "grocery                     176    202    215    194    257    1044\n",
       "home                       5391   5542   5477   5309   5243   26962\n",
       "home_improvement           2162   1987   2188   2375   2167   10879\n",
       "industrial_supplies         256    278    338    313    297    1482\n",
       "jewelry                     332    328    358    279    301    1598\n",
       "kitchen                    1322   1331   1281   1438   1323    6695\n",
       "lawn_and_garden            1082    922    796    749    688    4237\n",
       "luggage                     451    582    652    825    818    3328\n",
       "musical_instruments         234    273    299    362    362    1530\n",
       "office_product              864    914    971    989   1033    4771\n",
       "other                       789    705    786    717    940    3937\n",
       "pc                         2220   2149   1988   2379   2455   11191\n",
       "personal_care_appliances    693    733    684    725    738    3573\n",
       "pet_products                714    787    771    700    741    3713\n",
       "shoes                       467    541    552    612    582    2754\n",
       "sports                     2438   2551   2828   2860   2512   13189\n",
       "toy                        2503   2713   2965   2639   2827   13647\n",
       "video_games                 351    309    305    309    459    1733\n",
       "watch                       306    283    292    321    288    1490\n",
       "wireless                   6283   5684   4797   4606   4516   25886\n",
       "All                       40000  40000  40000  40000  40000  200000"
      ]
     },
     "execution_count": 29,
     "metadata": {},
     "output_type": "execute_result"
    }
   ],
   "source": [
    "category_stars"
   ]
  },
  {
   "cell_type": "code",
   "execution_count": 30,
   "id": "female-logging",
   "metadata": {},
   "outputs": [
    {
     "data": {
      "text/html": [
       "<div>\n",
       "<style scoped>\n",
       "    .dataframe tbody tr th:only-of-type {\n",
       "        vertical-align: middle;\n",
       "    }\n",
       "\n",
       "    .dataframe tbody tr th {\n",
       "        vertical-align: top;\n",
       "    }\n",
       "\n",
       "    .dataframe thead th {\n",
       "        text-align: right;\n",
       "    }\n",
       "</style>\n",
       "<table border=\"1\" class=\"dataframe\">\n",
       "  <thead>\n",
       "    <tr style=\"text-align: right;\">\n",
       "      <th>stars</th>\n",
       "      <th>1</th>\n",
       "      <th>2</th>\n",
       "      <th>3</th>\n",
       "      <th>4</th>\n",
       "      <th>5</th>\n",
       "      <th>All</th>\n",
       "    </tr>\n",
       "    <tr>\n",
       "      <th>product_category</th>\n",
       "      <th></th>\n",
       "      <th></th>\n",
       "      <th></th>\n",
       "      <th></th>\n",
       "      <th></th>\n",
       "      <th></th>\n",
       "    </tr>\n",
       "  </thead>\n",
       "  <tbody>\n",
       "    <tr>\n",
       "      <th>All</th>\n",
       "      <td>40000</td>\n",
       "      <td>40000</td>\n",
       "      <td>40000</td>\n",
       "      <td>40000</td>\n",
       "      <td>40000</td>\n",
       "      <td>200000</td>\n",
       "    </tr>\n",
       "    <tr>\n",
       "      <th>home</th>\n",
       "      <td>5391</td>\n",
       "      <td>5542</td>\n",
       "      <td>5477</td>\n",
       "      <td>5309</td>\n",
       "      <td>5243</td>\n",
       "      <td>26962</td>\n",
       "    </tr>\n",
       "    <tr>\n",
       "      <th>wireless</th>\n",
       "      <td>6283</td>\n",
       "      <td>5684</td>\n",
       "      <td>4797</td>\n",
       "      <td>4606</td>\n",
       "      <td>4516</td>\n",
       "      <td>25886</td>\n",
       "    </tr>\n",
       "    <tr>\n",
       "      <th>toy</th>\n",
       "      <td>2503</td>\n",
       "      <td>2713</td>\n",
       "      <td>2965</td>\n",
       "      <td>2639</td>\n",
       "      <td>2827</td>\n",
       "      <td>13647</td>\n",
       "    </tr>\n",
       "    <tr>\n",
       "      <th>sports</th>\n",
       "      <td>2438</td>\n",
       "      <td>2551</td>\n",
       "      <td>2828</td>\n",
       "      <td>2860</td>\n",
       "      <td>2512</td>\n",
       "      <td>13189</td>\n",
       "    </tr>\n",
       "    <tr>\n",
       "      <th>pc</th>\n",
       "      <td>2220</td>\n",
       "      <td>2149</td>\n",
       "      <td>1988</td>\n",
       "      <td>2379</td>\n",
       "      <td>2455</td>\n",
       "      <td>11191</td>\n",
       "    </tr>\n",
       "    <tr>\n",
       "      <th>home_improvement</th>\n",
       "      <td>2162</td>\n",
       "      <td>1987</td>\n",
       "      <td>2188</td>\n",
       "      <td>2375</td>\n",
       "      <td>2167</td>\n",
       "      <td>10879</td>\n",
       "    </tr>\n",
       "    <tr>\n",
       "      <th>electronics</th>\n",
       "      <td>2402</td>\n",
       "      <td>2188</td>\n",
       "      <td>1902</td>\n",
       "      <td>1961</td>\n",
       "      <td>1932</td>\n",
       "      <td>10385</td>\n",
       "    </tr>\n",
       "    <tr>\n",
       "      <th>book</th>\n",
       "      <td>659</td>\n",
       "      <td>896</td>\n",
       "      <td>998</td>\n",
       "      <td>1106</td>\n",
       "      <td>1605</td>\n",
       "      <td>5264</td>\n",
       "    </tr>\n",
       "    <tr>\n",
       "      <th>beauty</th>\n",
       "      <td>1546</td>\n",
       "      <td>1527</td>\n",
       "      <td>1539</td>\n",
       "      <td>1302</td>\n",
       "      <td>1423</td>\n",
       "      <td>7337</td>\n",
       "    </tr>\n",
       "  </tbody>\n",
       "</table>\n",
       "</div>"
      ],
      "text/plain": [
       "stars                 1      2      3      4      5     All\n",
       "product_category                                           \n",
       "All               40000  40000  40000  40000  40000  200000\n",
       "home               5391   5542   5477   5309   5243   26962\n",
       "wireless           6283   5684   4797   4606   4516   25886\n",
       "toy                2503   2713   2965   2639   2827   13647\n",
       "sports             2438   2551   2828   2860   2512   13189\n",
       "pc                 2220   2149   1988   2379   2455   11191\n",
       "home_improvement   2162   1987   2188   2375   2167   10879\n",
       "electronics        2402   2188   1902   1961   1932   10385\n",
       "book                659    896    998   1106   1605    5264\n",
       "beauty             1546   1527   1539   1302   1423    7337"
      ]
     },
     "execution_count": 30,
     "metadata": {},
     "output_type": "execute_result"
    }
   ],
   "source": [
    "category_stars_high = category_stars.sort_values([5],ascending=False)\n",
    "category_stars_high.head(10)"
   ]
  },
  {
   "cell_type": "code",
   "execution_count": 31,
   "id": "recent-helicopter",
   "metadata": {},
   "outputs": [
    {
     "data": {
      "image/png": "[encoded data removed]",
      "text/plain": [
       "<Figure size 1440x432 with 1 Axes>"
      ]
     },
     "metadata": {
      "needs_background": "light"
     },
     "output_type": "display_data"
    }
   ],
   "source": [
    "#Distribución de la variable producto_category\n",
    "plt.subplots(figsize=(20,6))\n",
    "sns.countplot(data=df_base, x=df_base.product_category, order = df_base.product_category.value_counts().index)\n",
    "plt.title('Distribución de la Categoría del Producto', fontsize=18)\n",
    "plt.xlabel('Categorías', fontsize=14)\n",
    "plt.ylabel('Cantidad de Reviews', fontsize=14)\n",
    "plt.xticks(rotation=80, fontsize=15)\n",
    "plt.show()"
   ]
  },
  {
   "cell_type": "markdown",
   "id": "introductory-patrick",
   "metadata": {},
   "source": [
    "### Aqui podemos ver que las categorias con mas reviews son wireless y home con mas de 25000 reviews, mientras que las demas no superan los 15000 reviews"
   ]
  },
  {
   "cell_type": "markdown",
   "id": "unexpected-interface",
   "metadata": {},
   "source": [
    "### Graficamos el promedio de estrellas por categoria"
   ]
  },
  {
   "cell_type": "code",
   "execution_count": 32,
   "id": "martial-sunglasses",
   "metadata": {},
   "outputs": [
    {
     "data": {
      "image/png": "[encoded data removed]",
      "text/plain": [
       "<Figure size 1440x432 with 1 Axes>"
      ]
     },
     "metadata": {
      "needs_background": "light"
     },
     "output_type": "display_data"
    }
   ],
   "source": [
    "#Promedio de estrellas por categoría \n",
    "data_avg = df_base.stars.groupby([df_base['product_category']]).mean().reset_index(name='stars_avg')\n",
    "data_avg = data_avg.sort_values(by='stars_avg', ascending=False).reset_index()\n",
    "data_avg = data_avg.drop(columns=['index'])\n",
    "\n",
    "plt.subplots(figsize=(20,6))\n",
    "sns.barplot(data=df_base, x=data_avg.product_category, y=data_avg.stars_avg)\n",
    "plt.title('Promedio de Estrellas por Categoría', fontsize=18)\n",
    "plt.xlabel('Categorías', fontsize=14)\n",
    "plt.ylabel('Promedio de estrellas', fontsize=14)\n",
    "plt.xticks(rotation=80, fontsize=15)\n",
    "plt.show()"
   ]
  },
  {
   "cell_type": "markdown",
   "id": "optional-mother",
   "metadata": {},
   "source": [
    "### Aqui podemos ver que las categorias con mayor promedio de estrellas son digital ebook purchase y book, y que todas las categorias rondan entre 2.5-3.5 "
   ]
  },
  {
   "cell_type": "markdown",
   "id": "waiting-adult",
   "metadata": {},
   "source": [
    "## Veremos cuales son las palabras con mayor frecuencia en los comentarios, para eso usamos la funcion tokenize, limpiamos el texto con expresiones regulares,quitamos las stopwords (para esto usaremos las stopwords de nltk en espanol), llevamos todo a minuscula y armamos una lista"
   ]
  },
  {
   "cell_type": "code",
   "execution_count": 33,
   "id": "loving-litigation",
   "metadata": {},
   "outputs": [],
   "source": [
    "from nltk.corpus import stopwords"
   ]
  },
  {
   "cell_type": "code",
   "execution_count": 35,
   "id": "varied-professor",
   "metadata": {},
   "outputs": [],
   "source": [
    "stopwords = nltk.corpus.stopwords.words('spanish')"
   ]
  },
  {
   "cell_type": "code",
   "execution_count": 36,
   "id": "distinguished-sheffield",
   "metadata": {},
   "outputs": [],
   "source": [
    "# stopwords_es = set(stopwords.words('spanish'))"
   ]
  },
  {
   "cell_type": "code",
   "execution_count": 37,
   "id": "friendly-boards",
   "metadata": {},
   "outputs": [],
   "source": [
    "#Considermos incluir al listado de stopwords de nltk algunas palabras sin su acento.\n",
    "stopwords_sin_acentos =  ['si', 'tambien', 'que', 'el', 'mio', 'mia', 'mios', 'mias', 'estas', 'esta', 'estamos', 'estais', 'estan', 'esta', 'estes', \n",
    "                         'esteis', 'esten', 'estare', 'estaras', 'estara', 'estareis', 'estaran', 'estaria', 'estarias', 'estariamos', 'estariais', \n",
    "                         'estarian', 'estuvieramos', 'estuviesemos', 'habeis',  'hayais','habre', 'habras', 'habra', 'habreis', 'habran',\n",
    "                         'habria', 'habrias', 'habriamos', 'habriais', 'habrian', 'habia', 'habias', 'habiamos', 'habiais', 'habian', 'hubieramos', \n",
    "                         'hubiesemos', 'seais', 'sere', 'seras', 'sera', 'sereis', 'seran', 'seria', 'serias', 'seriamos', 'seriais', 'serian', \n",
    "                         'eramos', 'fueramos','fuesemos', 'teneis', 'tengais', 'tendre', 'tendras', 'tendra', 'tendreis', 'tendran', 'tendria', 'tendrias',\n",
    "                         'tendriamos', 'tendriais', 'tendrian', 'tenia', 'tenias', 'teniamos', 'teniais', 'tenian', 'tuvieramos', 'tuviesemos']"
   ]
  },
  {
   "cell_type": "code",
   "execution_count": 38,
   "id": "unable-frame",
   "metadata": {},
   "outputs": [],
   "source": [
    "#Definimos nuevas stopwords\n",
    "stopwords_es = stopwords + stopwords_sin_acentos"
   ]
  },
  {
   "cell_type": "markdown",
   "id": "liquid-tunisia",
   "metadata": {},
   "source": [
    "### Dividiremos el dataset en funcion a las estrellas de los comentarios para ver la palabras con mayor frecuencia en cada uno"
   ]
  },
  {
   "cell_type": "code",
   "execution_count": 39,
   "id": "alien-backing",
   "metadata": {},
   "outputs": [],
   "source": [
    "ds_onestar = df_base[df_base.stars==1]\n",
    "ds_twostar = df_base[df_base.stars==2]\n",
    "ds_threestar = df_base[df_base.stars==3]\n",
    "ds_fourstar = df_base[df_base.stars==4]\n",
    "ds_fivestar = df_base[df_base.stars==5]"
   ]
  },
  {
   "cell_type": "markdown",
   "id": "incredible-jewelry",
   "metadata": {},
   "source": [
    "## Una estrella"
   ]
  },
  {
   "cell_type": "code",
   "execution_count": 41,
   "id": "entitled-touch",
   "metadata": {},
   "outputs": [
    {
     "data": {
      "image/png": "[encoded data removed]",
      "text/plain": [
       "<Figure size 1080x576 with 1 Axes>"
      ]
     },
     "metadata": {
      "needs_background": "light"
     },
     "output_type": "display_data"
    }
   ],
   "source": [
    "from nltk.tokenize import RegexpTokenizer\n",
    "onestar = []\n",
    "for i in range(ds_onestar.shape[0]):\n",
    "    review = ds_onestar.review_body.iloc[i] #seleccionar el comentario\n",
    "    review = review.lower()\n",
    "    review = RegexpTokenizer('\\w+').tokenize(review) # Tokenizar con RegexpTokenizer\n",
    "    review = [palabra for palabra in review if not palabra in stopwords_es] # Filtrar por stopwords\n",
    "    onestar.append(review) #agregar el resultado a la lista\n",
    "import itertools\n",
    "from itertools import chain\n",
    "df_one = list(itertools.chain(*onestar))\n",
    "freqr = nltk.FreqDist(palabra for palabra in df_one)\n",
    "df_one = pd.DataFrame(list(freqr.items()), columns = [\"Word\",\"Frequency\"])\n",
    "df_one=df_one.sort_values('Frequency', ascending=False)\n",
    "plt.figure(figsize = (15,8))\n",
    "plot = sns.barplot(x  = df_one.iloc[:30].Word, y = df_one.iloc[:30].Frequency)\n",
    "for item in plot.get_xticklabels():\n",
    "    item.set_rotation(90)\n",
    "plt.show()"
   ]
  },
  {
   "cell_type": "markdown",
   "id": "tracked-aging",
   "metadata": {},
   "source": [
    "## Dos estrellas"
   ]
  },
  {
   "cell_type": "code",
   "execution_count": 42,
   "id": "homeless-touch",
   "metadata": {},
   "outputs": [
    {
     "data": {
      "image/png": "[encoded data removed]",
      "text/plain": [
       "<Figure size 1080x576 with 1 Axes>"
      ]
     },
     "metadata": {
      "needs_background": "light"
     },
     "output_type": "display_data"
    }
   ],
   "source": [
    "from nltk.tokenize import RegexpTokenizer\n",
    "twostar = []\n",
    "for i in range(ds_twostar.shape[0]):\n",
    "    review = ds_twostar.review_body.iloc[i] #seleccionar el comentario\n",
    "    review = review.lower()\n",
    "    review = RegexpTokenizer('\\w+').tokenize(review) # Tokenizar con RegexpTokenizer\n",
    "    review = [palabra for palabra in review if not palabra in stopwords_es] # Filtrar por stopwords\n",
    "    twostar.append(review) #agregar el resultado a la lista\n",
    "import itertools\n",
    "from itertools import chain\n",
    "df_two = list(itertools.chain(*twostar))\n",
    "freqr = nltk.FreqDist(palabra for palabra in df_two)\n",
    "df_two = pd.DataFrame(list(freqr.items()), columns = [\"Word\",\"Frequency\"])\n",
    "df_two=df_two.sort_values('Frequency', ascending=False)\n",
    "plt.figure(figsize = (15,8))\n",
    "plot = sns.barplot(x  = df_two.iloc[:30].Word, y = df_two.iloc[:30].Frequency)\n",
    "for item in plot.get_xticklabels():\n",
    "    item.set_rotation(90)\n",
    "plt.show()"
   ]
  },
  {
   "cell_type": "markdown",
   "id": "difficult-looking",
   "metadata": {},
   "source": [
    "## Tres estrellas"
   ]
  },
  {
   "cell_type": "code",
   "execution_count": 43,
   "id": "solved-proxy",
   "metadata": {},
   "outputs": [
    {
     "data": {
      "image/png": "[encoded data removed]",
      "text/plain": [
       "<Figure size 1080x576 with 1 Axes>"
      ]
     },
     "metadata": {
      "needs_background": "light"
     },
     "output_type": "display_data"
    }
   ],
   "source": [
    "from nltk.tokenize import RegexpTokenizer\n",
    "threestar = []\n",
    "for i in range(ds_threestar.shape[0]):\n",
    "    review = ds_threestar.review_body.iloc[i] #seleccionar el comentario\n",
    "    review = review.lower()\n",
    "    review = RegexpTokenizer('\\w+').tokenize(review) # Tokenizar con RegexpTokenizer\n",
    "    review = [palabra for palabra in review if not palabra in stopwords_es] # Filtrar por stopwords\n",
    "    threestar.append(review) #agregar el resultado a la lista\n",
    "import itertools\n",
    "from itertools import chain\n",
    "df_three = list(itertools.chain(*threestar))\n",
    "freqr = nltk.FreqDist(palabra for palabra in df_three)\n",
    "df_three = pd.DataFrame(list(freqr.items()), columns = [\"Word\",\"Frequency\"])\n",
    "df_three=df_three.sort_values('Frequency', ascending=False)\n",
    "plt.figure(figsize = (15,8))\n",
    "plot = sns.barplot(x  = df_three.iloc[:30].Word, y = df_three.iloc[:30].Frequency)\n",
    "for item in plot.get_xticklabels():\n",
    "    item.set_rotation(90)\n",
    "plt.show()"
   ]
  },
  {
   "cell_type": "markdown",
   "id": "handled-passing",
   "metadata": {},
   "source": [
    "## Cuatro estrellas"
   ]
  },
  {
   "cell_type": "code",
   "execution_count": 44,
   "id": "whole-farmer",
   "metadata": {},
   "outputs": [
    {
     "data": {
      "image/png": "[encoded data removed]",
      "text/plain": [
       "<Figure size 1080x576 with 1 Axes>"
      ]
     },
     "metadata": {
      "needs_background": "light"
     },
     "output_type": "display_data"
    }
   ],
   "source": [
    "from nltk.tokenize import RegexpTokenizer\n",
    "fourstar = []\n",
    "for i in range(ds_fourstar.shape[0]):\n",
    "    review = ds_fourstar.review_body.iloc[i] #seleccionar el comentario\n",
    "    review = review.lower()\n",
    "    review = RegexpTokenizer('\\w+').tokenize(review) # Tokenizar con RegexpTokenizer\n",
    "    review = [palabra for palabra in review if not palabra in stopwords_es] # Filtrar por stopwords\n",
    "    fourstar.append(review) #agregar el resultado a la lista\n",
    "import itertools\n",
    "from itertools import chain\n",
    "df_four = list(itertools.chain(*fourstar))\n",
    "freqr = nltk.FreqDist(palabra for palabra in df_four)\n",
    "df_four = pd.DataFrame(list(freqr.items()), columns = [\"Word\",\"Frequency\"])\n",
    "df_four=df_four.sort_values('Frequency', ascending=False)\n",
    "plt.figure(figsize = (15,8))\n",
    "plot = sns.barplot(x  = df_four.iloc[:30].Word, y = df_four.iloc[:30].Frequency)\n",
    "for item in plot.get_xticklabels():\n",
    "    item.set_rotation(90)\n",
    "plt.show()"
   ]
  },
  {
   "cell_type": "markdown",
   "id": "extended-evans",
   "metadata": {},
   "source": [
    "## Cinco estrellas"
   ]
  },
  {
   "cell_type": "code",
   "execution_count": 45,
   "id": "altered-economics",
   "metadata": {},
   "outputs": [
    {
     "data": {
      "image/png": "[encoded data removed]",
      "text/plain": [
       "<Figure size 1080x576 with 1 Axes>"
      ]
     },
     "metadata": {
      "needs_background": "light"
     },
     "output_type": "display_data"
    }
   ],
   "source": [
    "from nltk.tokenize import RegexpTokenizer\n",
    "fivestar = []\n",
    "for i in range(ds_fivestar.shape[0]):\n",
    "    review = ds_fivestar.review_body.iloc[i] #seleccionar el comentario\n",
    "    review = review.lower()\n",
    "    review = RegexpTokenizer('\\w+').tokenize(review) # Tokenizar con RegexpTokenizer\n",
    "    review = [palabra for palabra in review if not palabra in stopwords_es] # Filtrar por stopwords\n",
    "    fivestar.append(review) #agregar el resultado a la lista\n",
    "import itertools\n",
    "from itertools import chain\n",
    "df_five = list(itertools.chain(*fivestar))\n",
    "freqr = nltk.FreqDist(palabra for palabra in df_five)\n",
    "df_five = pd.DataFrame(list(freqr.items()), columns = [\"Word\",\"Frequency\"])\n",
    "df_five=df_five.sort_values('Frequency', ascending=False)\n",
    "plt.figure(figsize = (15,8))\n",
    "plot = sns.barplot(x  = df_five.iloc[:30].Word, y = df_five.iloc[:30].Frequency)\n",
    "for item in plot.get_xticklabels():\n",
    "    item.set_rotation(90)\n",
    "plt.show()"
   ]
  },
  {
   "cell_type": "markdown",
   "id": "toxic-sheriff",
   "metadata": {},
   "source": [
    "## Procedemos a lematizar y stemizar los comentarios para luego modelar"
   ]
  },
  {
   "cell_type": "markdown",
   "id": "satellite-thailand",
   "metadata": {},
   "source": [
    "### Importamos librerias"
   ]
  },
  {
   "cell_type": "code",
   "execution_count": 46,
   "id": "numerous-realtor",
   "metadata": {},
   "outputs": [],
   "source": [
    "from nltk.stem import WordNetLemmatizer\n",
    "wordnet_lemmatizer = WordNetLemmatizer()\n",
    "from unicodedata import normalize\n",
    "from nltk.corpus import wordnet as wn\n",
    "from nltk.util import ngrams\n",
    "from nltk.stem import SnowballStemmer\n",
    "spanish_stemmer = SnowballStemmer('spanish')\n",
    "nlp = spacy.load(\"es_core_news_sm\")"
   ]
  },
  {
   "cell_type": "markdown",
   "id": "pharmaceutical-concert",
   "metadata": {},
   "source": [
    "### Concatemos las columnas de titulos, comentarios y categoria de producto para trabajar, a esta variables la llamamos \"text_concat\""
   ]
  },
  {
   "cell_type": "code",
   "execution_count": 47,
   "id": "boring-karen",
   "metadata": {},
   "outputs": [],
   "source": [
    "df_base[\"text_concat\"] = df_base[\"review_title\"] + \" \" + df_base[\"review_body\"] + \" \" + df_base[\"product_category\"]"
   ]
  },
  {
   "cell_type": "code",
   "execution_count": 48,
   "id": "shaped-stanford",
   "metadata": {},
   "outputs": [
    {
     "data": {
      "text/html": [
       "<div>\n",
       "<style scoped>\n",
       "    .dataframe tbody tr th:only-of-type {\n",
       "        vertical-align: middle;\n",
       "    }\n",
       "\n",
       "    .dataframe tbody tr th {\n",
       "        vertical-align: top;\n",
       "    }\n",
       "\n",
       "    .dataframe thead th {\n",
       "        text-align: right;\n",
       "    }\n",
       "</style>\n",
       "<table border=\"1\" class=\"dataframe\">\n",
       "  <thead>\n",
       "    <tr style=\"text-align: right;\">\n",
       "      <th></th>\n",
       "      <th>index</th>\n",
       "      <th>product_id</th>\n",
       "      <th>reviewer_id</th>\n",
       "      <th>stars</th>\n",
       "      <th>review_body</th>\n",
       "      <th>review_title</th>\n",
       "      <th>language</th>\n",
       "      <th>product_category</th>\n",
       "      <th>text_concat</th>\n",
       "    </tr>\n",
       "  </thead>\n",
       "  <tbody>\n",
       "    <tr>\n",
       "      <th>0</th>\n",
       "      <td>0</td>\n",
       "      <td>product_es_0296024</td>\n",
       "      <td>reviewer_es_0999081</td>\n",
       "      <td>1</td>\n",
       "      <td>Nada bueno se me fue ka pantalla en menos de 8...</td>\n",
       "      <td>television Nevir</td>\n",
       "      <td>es</td>\n",
       "      <td>electronics</td>\n",
       "      <td>television Nevir Nada bueno se me fue ka panta...</td>\n",
       "    </tr>\n",
       "    <tr>\n",
       "      <th>1</th>\n",
       "      <td>1</td>\n",
       "      <td>product_es_0922286</td>\n",
       "      <td>reviewer_es_0216771</td>\n",
       "      <td>1</td>\n",
       "      <td>Horrible, nos tuvimos que comprar otro porque ...</td>\n",
       "      <td>Dinero tirado a la basura con esta compra</td>\n",
       "      <td>es</td>\n",
       "      <td>electronics</td>\n",
       "      <td>Dinero tirado a la basura con esta compra Horr...</td>\n",
       "    </tr>\n",
       "    <tr>\n",
       "      <th>2</th>\n",
       "      <td>2</td>\n",
       "      <td>product_es_0474543</td>\n",
       "      <td>reviewer_es_0929213</td>\n",
       "      <td>1</td>\n",
       "      <td>Te obligan a comprar dos unidades y te llega s...</td>\n",
       "      <td>solo llega una unidad cuando te obligan a comp...</td>\n",
       "      <td>es</td>\n",
       "      <td>drugstore</td>\n",
       "      <td>solo llega una unidad cuando te obligan a comp...</td>\n",
       "    </tr>\n",
       "    <tr>\n",
       "      <th>3</th>\n",
       "      <td>3</td>\n",
       "      <td>product_es_0656090</td>\n",
       "      <td>reviewer_es_0224702</td>\n",
       "      <td>1</td>\n",
       "      <td>No entro en descalificar al vendedor, solo pue...</td>\n",
       "      <td>PRODUCTO NO RECIBIDO.</td>\n",
       "      <td>es</td>\n",
       "      <td>wireless</td>\n",
       "      <td>PRODUCTO NO RECIBIDO. No entro en descalificar...</td>\n",
       "    </tr>\n",
       "    <tr>\n",
       "      <th>4</th>\n",
       "      <td>4</td>\n",
       "      <td>product_es_0662544</td>\n",
       "      <td>reviewer_es_0224827</td>\n",
       "      <td>1</td>\n",
       "      <td>Llega tarde y co la talla equivocada</td>\n",
       "      <td>Devuelto</td>\n",
       "      <td>es</td>\n",
       "      <td>shoes</td>\n",
       "      <td>Devuelto Llega tarde y co la talla equivocada ...</td>\n",
       "    </tr>\n",
       "  </tbody>\n",
       "</table>\n",
       "</div>"
      ],
      "text/plain": [
       "   index          product_id          reviewer_id  stars  \\\n",
       "0      0  product_es_0296024  reviewer_es_0999081      1   \n",
       "1      1  product_es_0922286  reviewer_es_0216771      1   \n",
       "2      2  product_es_0474543  reviewer_es_0929213      1   \n",
       "3      3  product_es_0656090  reviewer_es_0224702      1   \n",
       "4      4  product_es_0662544  reviewer_es_0224827      1   \n",
       "\n",
       "                                         review_body  \\\n",
       "0  Nada bueno se me fue ka pantalla en menos de 8...   \n",
       "1  Horrible, nos tuvimos que comprar otro porque ...   \n",
       "2  Te obligan a comprar dos unidades y te llega s...   \n",
       "3  No entro en descalificar al vendedor, solo pue...   \n",
       "4               Llega tarde y co la talla equivocada   \n",
       "\n",
       "                                        review_title language  \\\n",
       "0                                   television Nevir       es   \n",
       "1          Dinero tirado a la basura con esta compra       es   \n",
       "2  solo llega una unidad cuando te obligan a comp...       es   \n",
       "3                              PRODUCTO NO RECIBIDO.       es   \n",
       "4                                           Devuelto       es   \n",
       "\n",
       "  product_category                                        text_concat  \n",
       "0      electronics  television Nevir Nada bueno se me fue ka panta...  \n",
       "1      electronics  Dinero tirado a la basura con esta compra Horr...  \n",
       "2        drugstore  solo llega una unidad cuando te obligan a comp...  \n",
       "3         wireless  PRODUCTO NO RECIBIDO. No entro en descalificar...  \n",
       "4            shoes  Devuelto Llega tarde y co la talla equivocada ...  "
      ]
     },
     "execution_count": 48,
     "metadata": {},
     "output_type": "execute_result"
    }
   ],
   "source": [
    "df_base.head()"
   ]
  },
  {
   "cell_type": "markdown",
   "id": "tight-burlington",
   "metadata": {},
   "source": [
    "## STEMMING"
   ]
  },
  {
   "cell_type": "markdown",
   "id": "advised-sheet",
   "metadata": {},
   "source": [
    "### Aqui usamos expresiones regulares para limpiar el texto en espanol, lo llevamos a minusculas, tokenizamos, quitamos aquellas que tienen menos de dos palabras, filtramos las stopwords y stemizamos con la funcion spanish_stemmer (esto lo realiza con SnowballStemmer) y al resultado lo dejamos en una lista"
   ]
  },
  {
   "cell_type": "code",
   "execution_count": 49,
   "id": "lesbian-prime",
   "metadata": {},
   "outputs": [],
   "source": [
    "# Recorremos todos los titulos y le vamos aplicando la Normalizacion y luega el Stemming a cada uno\n",
    "review_list=[]\n",
    "\n",
    "for coment in df_base.text_concat:\n",
    "    # Limpieza\n",
    "    coment=re.sub(\"\\[.*?¿\\]\\%\", ' ',str(coment))   #\"[^a-zA-Z]\",\" \"\n",
    "    coment=re.sub(r'[0-9]+', '',str(coment))\n",
    "    coment=re.sub(\n",
    "        r\"([^n\\u0300-\\u036f]|n(?!\\u0303(?![\\u0300-\\u036f])))[\\u0300-\\u036f]+\", r\"\\1\", \n",
    "        normalize( \"NFD\", coment), 0, re.I)\n",
    "    #coment=normalize( 'NFC', coment)\n",
    "    coment=coment.replace(\",\",\"\")\n",
    "    coment=coment.strip()\n",
    "    \n",
    "    # Pasamos todo a minúsculas\n",
    "    coment=coment.lower()\n",
    "    \n",
    "    # Tokenizamos para separar las palabras del titular\n",
    "    coment= nltk.word_tokenize(coment)\n",
    "    \n",
    "    # Eliminamos las palabras de menos de 3 letras\n",
    "    coment = [palabra for palabra in coment if len(coment)>2]\n",
    "    \n",
    "    # Sacamos las Stopwords\n",
    "    coment = [palabra for palabra in coment if not palabra in stopwords_es]\n",
    "    \n",
    "    ## Hasta acá Normalizamos, ahora a stemmizar\n",
    "\n",
    "    coment = [spanish_stemmer.stem(palabra) for palabra in coment]\n",
    "\n",
    "    # Por ultimo volvemos a unir el titular\n",
    "    coment = \" \".join(coment)\n",
    "    \n",
    "    # Vamos armando una lista con todos los titulares\n",
    "    review_list.append(coment)"
   ]
  },
  {
   "cell_type": "markdown",
   "id": "fitting-brother",
   "metadata": {},
   "source": [
    "### Creamos la columna con el texto limpio, la llamamos coment_stem"
   ]
  },
  {
   "cell_type": "code",
   "execution_count": 51,
   "id": "proper-being",
   "metadata": {},
   "outputs": [],
   "source": [
    "df_base[\"coment_stem\"] = review_list"
   ]
  },
  {
   "cell_type": "code",
   "execution_count": 52,
   "id": "consistent-carpet",
   "metadata": {},
   "outputs": [
    {
     "data": {
      "text/html": [
       "<div>\n",
       "<style scoped>\n",
       "    .dataframe tbody tr th:only-of-type {\n",
       "        vertical-align: middle;\n",
       "    }\n",
       "\n",
       "    .dataframe tbody tr th {\n",
       "        vertical-align: top;\n",
       "    }\n",
       "\n",
       "    .dataframe thead th {\n",
       "        text-align: right;\n",
       "    }\n",
       "</style>\n",
       "<table border=\"1\" class=\"dataframe\">\n",
       "  <thead>\n",
       "    <tr style=\"text-align: right;\">\n",
       "      <th></th>\n",
       "      <th>index</th>\n",
       "      <th>product_id</th>\n",
       "      <th>reviewer_id</th>\n",
       "      <th>stars</th>\n",
       "      <th>review_body</th>\n",
       "      <th>review_title</th>\n",
       "      <th>language</th>\n",
       "      <th>product_category</th>\n",
       "      <th>text_concat</th>\n",
       "      <th>coment_stem</th>\n",
       "    </tr>\n",
       "  </thead>\n",
       "  <tbody>\n",
       "    <tr>\n",
       "      <th>0</th>\n",
       "      <td>0</td>\n",
       "      <td>product_es_0296024</td>\n",
       "      <td>reviewer_es_0999081</td>\n",
       "      <td>1</td>\n",
       "      <td>Nada bueno se me fue ka pantalla en menos de 8...</td>\n",
       "      <td>television Nevir</td>\n",
       "      <td>es</td>\n",
       "      <td>electronics</td>\n",
       "      <td>television Nevir Nada bueno se me fue ka panta...</td>\n",
       "      <td>television nev buen ka pantall men mes recib r...</td>\n",
       "    </tr>\n",
       "    <tr>\n",
       "      <th>1</th>\n",
       "      <td>1</td>\n",
       "      <td>product_es_0922286</td>\n",
       "      <td>reviewer_es_0216771</td>\n",
       "      <td>1</td>\n",
       "      <td>Horrible, nos tuvimos que comprar otro porque ...</td>\n",
       "      <td>Dinero tirado a la basura con esta compra</td>\n",
       "      <td>es</td>\n",
       "      <td>electronics</td>\n",
       "      <td>Dinero tirado a la basura con esta compra Horr...</td>\n",
       "      <td>diner tir basur compr horribl compr sab ingles...</td>\n",
       "    </tr>\n",
       "    <tr>\n",
       "      <th>2</th>\n",
       "      <td>2</td>\n",
       "      <td>product_es_0474543</td>\n",
       "      <td>reviewer_es_0929213</td>\n",
       "      <td>1</td>\n",
       "      <td>Te obligan a comprar dos unidades y te llega s...</td>\n",
       "      <td>solo llega una unidad cuando te obligan a comp...</td>\n",
       "      <td>es</td>\n",
       "      <td>drugstore</td>\n",
       "      <td>solo llega una unidad cuando te obligan a comp...</td>\n",
       "      <td>sol lleg unid oblig compr dos oblig compr dos ...</td>\n",
       "    </tr>\n",
       "    <tr>\n",
       "      <th>3</th>\n",
       "      <td>3</td>\n",
       "      <td>product_es_0656090</td>\n",
       "      <td>reviewer_es_0224702</td>\n",
       "      <td>1</td>\n",
       "      <td>No entro en descalificar al vendedor, solo pue...</td>\n",
       "      <td>PRODUCTO NO RECIBIDO.</td>\n",
       "      <td>es</td>\n",
       "      <td>wireless</td>\n",
       "      <td>PRODUCTO NO RECIBIDO. No entro en descalificar...</td>\n",
       "      <td>product recib . entro descalific vendedor sol ...</td>\n",
       "    </tr>\n",
       "    <tr>\n",
       "      <th>4</th>\n",
       "      <td>4</td>\n",
       "      <td>product_es_0662544</td>\n",
       "      <td>reviewer_es_0224827</td>\n",
       "      <td>1</td>\n",
       "      <td>Llega tarde y co la talla equivocada</td>\n",
       "      <td>Devuelto</td>\n",
       "      <td>es</td>\n",
       "      <td>shoes</td>\n",
       "      <td>Devuelto Llega tarde y co la talla equivocada ...</td>\n",
       "      <td>devuelt lleg tard co tall equivoc sho</td>\n",
       "    </tr>\n",
       "    <tr>\n",
       "      <th>...</th>\n",
       "      <td>...</td>\n",
       "      <td>...</td>\n",
       "      <td>...</td>\n",
       "      <td>...</td>\n",
       "      <td>...</td>\n",
       "      <td>...</td>\n",
       "      <td>...</td>\n",
       "      <td>...</td>\n",
       "      <td>...</td>\n",
       "      <td>...</td>\n",
       "    </tr>\n",
       "    <tr>\n",
       "      <th>199995</th>\n",
       "      <td>199995</td>\n",
       "      <td>product_es_0317036</td>\n",
       "      <td>reviewer_es_0643604</td>\n",
       "      <td>5</td>\n",
       "      <td>Mando funciona perfectamente y cumple con toda...</td>\n",
       "      <td>Tal y como se describe</td>\n",
       "      <td>es</td>\n",
       "      <td>electronics</td>\n",
       "      <td>Tal y como se describe Mando funciona perfecta...</td>\n",
       "      <td>tal describ mand funcion perfect cumpl tod fun...</td>\n",
       "    </tr>\n",
       "    <tr>\n",
       "      <th>199996</th>\n",
       "      <td>199996</td>\n",
       "      <td>product_es_0622919</td>\n",
       "      <td>reviewer_es_0466173</td>\n",
       "      <td>5</td>\n",
       "      <td>Compré la batería con cierta reticencia, pero ...</td>\n",
       "      <td>Funciona perfectamente</td>\n",
       "      <td>es</td>\n",
       "      <td>electronics</td>\n",
       "      <td>Funciona perfectamente Compré la batería con c...</td>\n",
       "      <td>funcion perfect compr bateri ciert reticent re...</td>\n",
       "    </tr>\n",
       "    <tr>\n",
       "      <th>199997</th>\n",
       "      <td>199997</td>\n",
       "      <td>product_es_0358101</td>\n",
       "      <td>reviewer_es_0330744</td>\n",
       "      <td>5</td>\n",
       "      <td>Buena calidad. Satisfecha con la compra.</td>\n",
       "      <td>Buena calidad.</td>\n",
       "      <td>es</td>\n",
       "      <td>apparel</td>\n",
       "      <td>Buena calidad. Buena calidad. Satisfecha con l...</td>\n",
       "      <td>buen calid . buen calid . satisfech compr . ap...</td>\n",
       "    </tr>\n",
       "    <tr>\n",
       "      <th>199998</th>\n",
       "      <td>199998</td>\n",
       "      <td>product_es_0788855</td>\n",
       "      <td>reviewer_es_0694290</td>\n",
       "      <td>5</td>\n",
       "      <td>Perfecto para el cumple de mi hijo</td>\n",
       "      <td>Recomendado</td>\n",
       "      <td>es</td>\n",
       "      <td>toy</td>\n",
       "      <td>Recomendado Perfecto para el cumple de mi hijo...</td>\n",
       "      <td>recomend perfect cumpl hij toy</td>\n",
       "    </tr>\n",
       "    <tr>\n",
       "      <th>199999</th>\n",
       "      <td>199999</td>\n",
       "      <td>product_es_0378794</td>\n",
       "      <td>reviewer_es_0141717</td>\n",
       "      <td>5</td>\n",
       "      <td>Súper bien! Las brochas son buenas, no sé meno...</td>\n",
       "      <td>Preciosas</td>\n",
       "      <td>es</td>\n",
       "      <td>home</td>\n",
       "      <td>Preciosas Súper bien! Las brochas son buenas, ...</td>\n",
       "      <td>preci sup bien ! broch buen men caid pelit qui...</td>\n",
       "    </tr>\n",
       "  </tbody>\n",
       "</table>\n",
       "<p>200000 rows × 10 columns</p>\n",
       "</div>"
      ],
      "text/plain": [
       "         index          product_id          reviewer_id  stars  \\\n",
       "0            0  product_es_0296024  reviewer_es_0999081      1   \n",
       "1            1  product_es_0922286  reviewer_es_0216771      1   \n",
       "2            2  product_es_0474543  reviewer_es_0929213      1   \n",
       "3            3  product_es_0656090  reviewer_es_0224702      1   \n",
       "4            4  product_es_0662544  reviewer_es_0224827      1   \n",
       "...        ...                 ...                  ...    ...   \n",
       "199995  199995  product_es_0317036  reviewer_es_0643604      5   \n",
       "199996  199996  product_es_0622919  reviewer_es_0466173      5   \n",
       "199997  199997  product_es_0358101  reviewer_es_0330744      5   \n",
       "199998  199998  product_es_0788855  reviewer_es_0694290      5   \n",
       "199999  199999  product_es_0378794  reviewer_es_0141717      5   \n",
       "\n",
       "                                              review_body  \\\n",
       "0       Nada bueno se me fue ka pantalla en menos de 8...   \n",
       "1       Horrible, nos tuvimos que comprar otro porque ...   \n",
       "2       Te obligan a comprar dos unidades y te llega s...   \n",
       "3       No entro en descalificar al vendedor, solo pue...   \n",
       "4                    Llega tarde y co la talla equivocada   \n",
       "...                                                   ...   \n",
       "199995  Mando funciona perfectamente y cumple con toda...   \n",
       "199996  Compré la batería con cierta reticencia, pero ...   \n",
       "199997           Buena calidad. Satisfecha con la compra.   \n",
       "199998                 Perfecto para el cumple de mi hijo   \n",
       "199999  Súper bien! Las brochas son buenas, no sé meno...   \n",
       "\n",
       "                                             review_title language  \\\n",
       "0                                        television Nevir       es   \n",
       "1               Dinero tirado a la basura con esta compra       es   \n",
       "2       solo llega una unidad cuando te obligan a comp...       es   \n",
       "3                                   PRODUCTO NO RECIBIDO.       es   \n",
       "4                                                Devuelto       es   \n",
       "...                                                   ...      ...   \n",
       "199995                             Tal y como se describe       es   \n",
       "199996                             Funciona perfectamente       es   \n",
       "199997                                     Buena calidad.       es   \n",
       "199998                                        Recomendado       es   \n",
       "199999                                          Preciosas       es   \n",
       "\n",
       "       product_category                                        text_concat  \\\n",
       "0           electronics  television Nevir Nada bueno se me fue ka panta...   \n",
       "1           electronics  Dinero tirado a la basura con esta compra Horr...   \n",
       "2             drugstore  solo llega una unidad cuando te obligan a comp...   \n",
       "3              wireless  PRODUCTO NO RECIBIDO. No entro en descalificar...   \n",
       "4                 shoes  Devuelto Llega tarde y co la talla equivocada ...   \n",
       "...                 ...                                                ...   \n",
       "199995      electronics  Tal y como se describe Mando funciona perfecta...   \n",
       "199996      electronics  Funciona perfectamente Compré la batería con c...   \n",
       "199997          apparel  Buena calidad. Buena calidad. Satisfecha con l...   \n",
       "199998              toy  Recomendado Perfecto para el cumple de mi hijo...   \n",
       "199999             home  Preciosas Súper bien! Las brochas son buenas, ...   \n",
       "\n",
       "                                              coment_stem  \n",
       "0       television nev buen ka pantall men mes recib r...  \n",
       "1       diner tir basur compr horribl compr sab ingles...  \n",
       "2       sol lleg unid oblig compr dos oblig compr dos ...  \n",
       "3       product recib . entro descalific vendedor sol ...  \n",
       "4                   devuelt lleg tard co tall equivoc sho  \n",
       "...                                                   ...  \n",
       "199995  tal describ mand funcion perfect cumpl tod fun...  \n",
       "199996  funcion perfect compr bateri ciert reticent re...  \n",
       "199997  buen calid . buen calid . satisfech compr . ap...  \n",
       "199998                     recomend perfect cumpl hij toy  \n",
       "199999  preci sup bien ! broch buen men caid pelit qui...  \n",
       "\n",
       "[200000 rows x 10 columns]"
      ]
     },
     "execution_count": 52,
     "metadata": {},
     "output_type": "execute_result"
    }
   ],
   "source": [
    "df_base"
   ]
  },
  {
   "cell_type": "markdown",
   "id": "electric-speaking",
   "metadata": {},
   "source": [
    "### Eliminamos las columnas que no son de interes"
   ]
  },
  {
   "cell_type": "code",
   "execution_count": 53,
   "id": "announced-ontario",
   "metadata": {},
   "outputs": [],
   "source": [
    "dataset_stem=df_base.drop(columns=[\"product_category\",\"language\",\"product_id\",\"reviewer_id\"])"
   ]
  },
  {
   "cell_type": "markdown",
   "id": "senior-florist",
   "metadata": {},
   "source": [
    "### Ahora procederemos a vectorizar, elegimos TF IDF ya que nos dio mejores resultados que Count Vectorizer, tambien decidimos usar ngram range de 1,2 para que tome palabras compuestas como buena calidad, mala calidad, etc."
   ]
  },
  {
   "cell_type": "code",
   "execution_count": 54,
   "id": "impressed-commissioner",
   "metadata": {},
   "outputs": [],
   "source": [
    "list_titulos = list(dataset_stem['coment_stem'].values)\n",
    "stars = dataset_stem['stars'].values"
   ]
  },
  {
   "cell_type": "code",
   "execution_count": 55,
   "id": "mighty-median",
   "metadata": {},
   "outputs": [],
   "source": [
    "from sklearn.feature_extraction.text import CountVectorizer\n",
    "from sklearn.feature_extraction.text import TfidfVectorizer\n",
    "# Usaremos solo las 5000 palabras con mas frecuencia en todo el corpus para generar los vectores\n",
    "max_features=5000\n",
    "\n",
    "# Es decir que cada instancia tendrá 5000 features\n",
    "#cou_vec=CountVectorizer(max_features=max_features, ngram_range=(1, 2),stop_words=stopwords_es) # stop_words=\"english\" , ngram_range=(1, 2)\n",
    "vectorizer = TfidfVectorizer(max_features=max_features,ngram_range=(1, 2),stop_words=stopwords_es,max_df=0.85)"
   ]
  },
  {
   "cell_type": "code",
   "execution_count": 56,
   "id": "amended-tamil",
   "metadata": {},
   "outputs": [
    {
     "name": "stdout",
     "output_type": "stream",
     "text": [
      "100primeras palabras:  ['abaj', 'abiert', 'aboll', 'abon', 'abra', 'abre', 'abren', 'abres', 'abri', 'abrig', 'abril', 'abrir', 'abrir caj', 'abrir cerr', 'abrir paquet', 'abrirl', 'absolut', 'absorb', 'absurd', 'abuel', 'abult', 'aburr', 'acab', 'acab buen', 'acab compr', 'acab lleg', 'acab mal', 'acab recib', 'acab romp', 'acas', 'acced', 'acces', 'accesori', 'accion', 'aceit', 'acept', 'acept preci', 'acer', 'acer inoxid', 'acerc', 'acert', 'aciert', 'aclar', 'acolch', 'acompan', 'acondicion', 'aconsej', 'aconsej compr', 'acopl', 'acopl bien', 'acopl perfect', 'acord', 'acord preci', 'acostumbr', 'activ', 'actu', 'actual', 'actualiz', 'actualizacion', 'acuari', 'acuerd', 'acumul', 'ad', 'adapt', 'adapt bien', 'adapt perfect', 'adaptacion', 'adecu', 'adel', 'adem', 'adem lleg', 'adem pued', 'adem ser', 'adem vien', 'adher', 'adherent', 'adhes', 'adhier', 'adhier bien', 'adi', 'adicional', 'adjunt', 'adjunt fot', 'admit', 'adolescent', 'ador', 'adorn', 'adquir', 'adquiri', 'adult', 'afect', 'afeit', 'afil', 'afloj', 'agarr', 'agarr bien', 'agenci', 'agend', 'agil', 'agost']\n"
     ]
    }
   ],
   "source": [
    "matriz_titulos = vectorizer.fit_transform(list_titulos)\n",
    "\n",
    "# Tomamos las palabras\n",
    "all_words = vectorizer.get_feature_names()\n",
    "\n",
    "# Vizualizamos las 100 primeras palabras\n",
    "print(\"100primeras palabras: \",all_words[0:100])"
   ]
  },
  {
   "cell_type": "code",
   "execution_count": 57,
   "id": "going-conjunction",
   "metadata": {},
   "outputs": [
    {
     "data": {
      "text/plain": [
       "array([[0., 0., 0., ..., 0., 0., 0.],\n",
       "       [0., 0., 0., ..., 0., 0., 0.],\n",
       "       [0., 0., 0., ..., 0., 0., 0.],\n",
       "       ...,\n",
       "       [0., 0., 0., ..., 0., 0., 0.],\n",
       "       [0., 0., 0., ..., 0., 0., 0.],\n",
       "       [0., 0., 0., ..., 0., 0., 0.]], dtype=float16)"
      ]
     },
     "execution_count": 57,
     "metadata": {},
     "output_type": "execute_result"
    }
   ],
   "source": [
    "matriz_titulos.toarray().astype(\"float16\") # Pasamos a float 16 porque sino no figura un error por la memoria"
   ]
  },
  {
   "cell_type": "markdown",
   "id": "decimal-lloyd",
   "metadata": {},
   "source": [
    "# MACHINE LEARNING"
   ]
  },
  {
   "cell_type": "markdown",
   "id": "positive-costume",
   "metadata": {},
   "source": [
    "## Librerias"
   ]
  },
  {
   "cell_type": "code",
   "execution_count": 60,
   "id": "czech-hanging",
   "metadata": {},
   "outputs": [],
   "source": [
    "from sklearn.ensemble import RandomForestClassifier\n",
    "from sklearn.metrics import confusion_matrix\n",
    "from sklearn.metrics import accuracy_score\n",
    "from sklearn.model_selection import GridSearchCV\n",
    "from sklearn.metrics import classification_report, confusion_matrix\n",
    "from sklearn.svm import SVC\n",
    "from sklearn.model_selection import RandomizedSearchCV\n",
    "from sklearn.tree import DecisionTreeClassifier\n",
    "from sklearn.naive_bayes import GaussianNB\n",
    "from sklearn.neighbors import KNeighborsClassifier\n",
    "from sklearn.ensemble import AdaBoostClassifier\n",
    "from sklearn.svm import LinearSVC\n",
    "from sklearn.linear_model import LogisticRegression"
   ]
  },
  {
   "cell_type": "markdown",
   "id": "mediterranean-motion",
   "metadata": {},
   "source": [
    "## Modelos : Para la clasificacion se realizara un modelo de arbol de decision como benchmark, y luego LinearSVC, Random forest y Regresion Logistica"
   ]
  },
  {
   "cell_type": "markdown",
   "id": "partial-subdivision",
   "metadata": {},
   "source": [
    "## Metricas : Seleccionamos la metrica accuracy y veremos la matriz de confusion\n",
    "Para justificar el desempeño de nuestros modelos se elije como métrica el `accuracy` ya que contamos con un dataset cuyas clases están perfectamente balanceadas. Entonces, calcularemos del total de los comentarios cuántos han sido clasificados en la clase correcta, y esto nos bastará para saber si el modelo está clasificando bien o no. Para ver la clasificación por estrellas utilizaremos la matriz de confusion, para asi saber como clasifica en cada estrella."
   ]
  },
  {
   "cell_type": "markdown",
   "id": "protective-theory",
   "metadata": {},
   "source": [
    "Definimos la funcion para realizar la matriz de confusion"
   ]
  },
  {
   "cell_type": "code",
   "execution_count": 61,
   "id": "vocal-right",
   "metadata": {},
   "outputs": [],
   "source": [
    "def confusion(y_test,y_pred):\n",
    "    names=['Una','Dos','Tres','Cuatro','Cinco']\n",
    "    cm=confusion_matrix(y_test,y_pred)\n",
    "    f,ax=plt.subplots(figsize=(5,5))\n",
    "    sns.heatmap(cm,annot=True,linewidth=.5,linecolor=\"r\",fmt=\".0f\",ax=ax)\n",
    "    plt.xlabel(\"y_pred\")\n",
    "    plt.ylabel(\"y_true\")\n",
    "    ax.set_xticklabels(names)\n",
    "    ax.set_yticklabels(names)\n",
    "    plt.show()\n",
    "\n",
    "    return"
   ]
  },
  {
   "cell_type": "markdown",
   "id": "tired-amendment",
   "metadata": {},
   "source": [
    "## Modelamos tomando la matriz como X y star como Y. Usamos train_test_split para dividir el dataset y entrenarlo, utilizaremos el 30% del dataset para testear y se agrega el parámetro `stratify` para asegurar un equilibrio en la distribución de las clases, en este caso la cantidad de estrellas"
   ]
  },
  {
   "cell_type": "code",
   "execution_count": 62,
   "id": "reflected-workshop",
   "metadata": {},
   "outputs": [],
   "source": [
    "x = matriz_titulos.toarray()\n",
    "y = stars\n",
    "\n",
    "from sklearn.model_selection import train_test_split\n",
    "xtrain, xtest, ytrain, ytest = train_test_split(x,y,test_size=0.3,random_state=42,stratify=y)"
   ]
  },
  {
   "cell_type": "markdown",
   "id": "instrumental-exclusion",
   "metadata": {},
   "source": [
    "## Procederemos a realizar los diferentes modelos"
   ]
  },
  {
   "cell_type": "markdown",
   "id": "portable-circle",
   "metadata": {},
   "source": [
    "## ARBOL DE DECISION (BENCHMARK)"
   ]
  },
  {
   "cell_type": "code",
   "execution_count": 53,
   "id": "moving-wales",
   "metadata": {},
   "outputs": [
    {
     "name": "stdout",
     "output_type": "stream",
     "text": [
      "acc:  0.40936666666666666\n"
     ]
    }
   ],
   "source": [
    "tree = DecisionTreeClassifier(max_depth = 30, random_state=42)\n",
    "tree.fit(xtrain,ytrain)\n",
    "print(\"acc: \",tree.score(xtest,ytest))"
   ]
  },
  {
   "cell_type": "markdown",
   "id": "final-staff",
   "metadata": {},
   "source": [
    "## MODELOS"
   ]
  },
  {
   "cell_type": "code",
   "execution_count": 65,
   "id": "exclusive-lender",
   "metadata": {},
   "outputs": [],
   "source": [
    "def seleccion_modelo(xtrain, xtest, ytrain, ytest):\n",
    "    modelos=[LinearSVC(random_state=42),\n",
    "            RandomForestClassifier(n_estimators = 80, random_state=42),\n",
    "            LogisticRegression(random_state=42, max_iter=1000, multi_class= 'multinomial')]\n",
    "    nombre_modelo = ['LinearSVC','Random Forest','Regresión Logística']\n",
    "    diccionario_modelos = {}\n",
    "    for i,modelo in enumerate(modelos):\n",
    "        modelo.fit(xtrain, ytrain)\n",
    "        y_pred = modelo.predict(xtest)\n",
    "        print('Modelo:', nombre_modelo[modelos.index(modelo)])\n",
    "        print('acc :  ', accuracy_score(ytest, y_pred))\n",
    "        confusion(ytest,y_pred)\n",
    "        diccionario_modelos[i]=modelo\n",
    "    return diccionario_modelos"
   ]
  },
  {
   "cell_type": "code",
   "execution_count": 66,
   "id": "great-bones",
   "metadata": {},
   "outputs": [
    {
     "name": "stdout",
     "output_type": "stream",
     "text": [
      "Modelo: LinearSVC\n",
      "acc :   0.5150333333333333\n"
     ]
    },
    {
     "data": {
      "image/png": "[encoded data removed]",
      "text/plain": [
       "<Figure size 360x360 with 2 Axes>"
      ]
     },
     "metadata": {
      "needs_background": "light"
     },
     "output_type": "display_data"
    },
    {
     "name": "stdout",
     "output_type": "stream",
     "text": [
      "Modelo: Random Forest\n",
      "acc :   0.4943166666666667\n"
     ]
    },
    {
     "data": {
      "image/png": "[encoded data removed]",
      "text/plain": [
       "<Figure size 360x360 with 2 Axes>"
      ]
     },
     "metadata": {
      "needs_background": "light"
     },
     "output_type": "display_data"
    },
    {
     "name": "stdout",
     "output_type": "stream",
     "text": [
      "Modelo: Regresión Logística\n",
      "acc :   0.5248833333333334\n"
     ]
    },
    {
     "data": {
      "image/png": "[encoded data removed]",
      "text/plain": [
       "<Figure size 360x360 with 2 Axes>"
      ]
     },
     "metadata": {
      "needs_background": "light"
     },
     "output_type": "display_data"
    }
   ],
   "source": [
    "modelo = seleccion_modelo(xtrain, xtest, ytrain, ytest)"
   ]
  },
  {
   "cell_type": "markdown",
   "id": "apart-thirty",
   "metadata": {},
   "source": [
    "## Veremos para el modelo Random Forest la importancia de features y saber que utiliza para predecir"
   ]
  },
  {
   "cell_type": "code",
   "execution_count": 67,
   "id": "binary-feelings",
   "metadata": {},
   "outputs": [],
   "source": [
    "rf = modelo[1]"
   ]
  },
  {
   "cell_type": "code",
   "execution_count": 68,
   "id": "opened-rebound",
   "metadata": {},
   "outputs": [
    {
     "name": "stderr",
     "output_type": "stream",
     "text": [
      "C:\\Users\\Lucas\\miniconda3\\envs\\ds2\\lib\\site-packages\\seaborn\\_decorators.py:36: FutureWarning: Pass the following variables as keyword args: x, y. From version 0.12, the only valid positional argument will be `data`, and passing other arguments without an explicit keyword will result in an error or misinterpretation.\n",
      "  warnings.warn(\n"
     ]
    },
    {
     "data": {
      "image/png": "[encoded data removed]",
      "text/plain": [
       "<Figure size 1080x576 with 1 Axes>"
      ]
     },
     "metadata": {
      "needs_background": "light"
     },
     "output_type": "display_data"
    }
   ],
   "source": [
    "# Le preguntamos la importancia de cada feature (cada palabra)\n",
    "importances = rf.feature_importances_\n",
    "# Tomamos la lista de palabras\n",
    "all_words = vectorizer.get_feature_names()\n",
    "columns = all_words\n",
    "\n",
    "# Ordenamos por importnacia y tomamos las 20 primeras\n",
    "indices = np.argsort(importances)[::-1]\n",
    "indices = indices[:20]\n",
    "selected_columns = [columns[i] for i in indices]\n",
    "selected_importances = importances[indices]\n",
    "\n",
    "# Por ultimo graficamos\n",
    "plt.figure(figsize = (15,8))\n",
    "sns.barplot(selected_columns, selected_importances)\n",
    "plt.show()"
   ]
  },
  {
   "cell_type": "markdown",
   "id": "undefined-shift",
   "metadata": {},
   "source": [
    "En el grafico podemos observar los features con mayor importancia, y cumple con las expectativas que tenia de las palabras mas importantes"
   ]
  },
  {
   "cell_type": "markdown",
   "id": "available-citizenship",
   "metadata": {},
   "source": [
    "## OPTIMIZACION DE HIPERPARAMETROS"
   ]
  },
  {
   "cell_type": "markdown",
   "id": "precise-petroleum",
   "metadata": {},
   "source": [
    "## Haremos la optimizacion de hiperparametros de estos modelos con Randomized Search, y un cross validation de 3 folds"
   ]
  },
  {
   "cell_type": "code",
   "execution_count": 4,
   "id": "incredible-rainbow",
   "metadata": {},
   "outputs": [],
   "source": [
    "model_rf = RandomForestClassifier()\n",
    "model_lsvc = LinearSVC()\n",
    "model_lr = LogisticRegression()"
   ]
  },
  {
   "cell_type": "markdown",
   "id": "spectacular-robert",
   "metadata": {},
   "source": [
    "Random Forest"
   ]
  },
  {
   "cell_type": "code",
   "execution_count": 47,
   "id": "accurate-importance",
   "metadata": {},
   "outputs": [
    {
     "data": {
      "text/plain": [
       "dict_keys(['bootstrap', 'ccp_alpha', 'class_weight', 'criterion', 'max_depth', 'max_features', 'max_leaf_nodes', 'max_samples', 'min_impurity_decrease', 'min_impurity_split', 'min_samples_leaf', 'min_samples_split', 'min_weight_fraction_leaf', 'n_estimators', 'n_jobs', 'oob_score', 'random_state', 'verbose', 'warm_start'])"
      ]
     },
     "execution_count": 47,
     "metadata": {},
     "output_type": "execute_result"
    }
   ],
   "source": [
    "model_rf.get_params().keys()"
   ]
  },
  {
   "cell_type": "code",
   "execution_count": 48,
   "id": "passive-excitement",
   "metadata": {},
   "outputs": [],
   "source": [
    "param_dist_rf = {'n_estimators': [0,20,40,60,80,100]\n",
    "                   ,'max_depth': [70]\n",
    "                   ,'random_state':[42]\n",
    "              }"
   ]
  },
  {
   "cell_type": "code",
   "execution_count": 49,
   "id": "weird-sessions",
   "metadata": {},
   "outputs": [
    {
     "name": "stderr",
     "output_type": "stream",
     "text": [
      "C:\\Users\\Lucas\\miniconda3\\envs\\ds2\\lib\\site-packages\\sklearn\\model_selection\\_search.py:278: UserWarning: The total space of parameters 6 is smaller than n_iter=10. Running 6 iterations. For exhaustive searches, use GridSearchCV.\n",
      "  warnings.warn(\n",
      "C:\\Users\\Lucas\\miniconda3\\envs\\ds2\\lib\\site-packages\\sklearn\\model_selection\\_validation.py:548: FitFailedWarning: Estimator fit failed. The score on this train-test partition for these parameters will be set to nan. Details: \n",
      "Traceback (most recent call last):\n",
      "  File \"C:\\Users\\Lucas\\miniconda3\\envs\\ds2\\lib\\site-packages\\sklearn\\model_selection\\_validation.py\", line 531, in _fit_and_score\n",
      "    estimator.fit(X_train, y_train, **fit_params)\n",
      "  File \"C:\\Users\\Lucas\\miniconda3\\envs\\ds2\\lib\\site-packages\\sklearn\\ensemble\\_forest.py\", line 348, in fit\n",
      "    self._validate_estimator()\n",
      "  File \"C:\\Users\\Lucas\\miniconda3\\envs\\ds2\\lib\\site-packages\\sklearn\\ensemble\\_base.py\", line 134, in _validate_estimator\n",
      "    raise ValueError(\"n_estimators must be greater than zero, \"\n",
      "ValueError: n_estimators must be greater than zero, got 0.\n",
      "\n",
      "  warnings.warn(\"Estimator fit failed. The score on this train-test\"\n",
      "C:\\Users\\Lucas\\miniconda3\\envs\\ds2\\lib\\site-packages\\sklearn\\model_selection\\_validation.py:548: FitFailedWarning: Estimator fit failed. The score on this train-test partition for these parameters will be set to nan. Details: \n",
      "Traceback (most recent call last):\n",
      "  File \"C:\\Users\\Lucas\\miniconda3\\envs\\ds2\\lib\\site-packages\\sklearn\\model_selection\\_validation.py\", line 531, in _fit_and_score\n",
      "    estimator.fit(X_train, y_train, **fit_params)\n",
      "  File \"C:\\Users\\Lucas\\miniconda3\\envs\\ds2\\lib\\site-packages\\sklearn\\ensemble\\_forest.py\", line 348, in fit\n",
      "    self._validate_estimator()\n",
      "  File \"C:\\Users\\Lucas\\miniconda3\\envs\\ds2\\lib\\site-packages\\sklearn\\ensemble\\_base.py\", line 134, in _validate_estimator\n",
      "    raise ValueError(\"n_estimators must be greater than zero, \"\n",
      "ValueError: n_estimators must be greater than zero, got 0.\n",
      "\n",
      "  warnings.warn(\"Estimator fit failed. The score on this train-test\"\n",
      "C:\\Users\\Lucas\\miniconda3\\envs\\ds2\\lib\\site-packages\\sklearn\\model_selection\\_validation.py:548: FitFailedWarning: Estimator fit failed. The score on this train-test partition for these parameters will be set to nan. Details: \n",
      "Traceback (most recent call last):\n",
      "  File \"C:\\Users\\Lucas\\miniconda3\\envs\\ds2\\lib\\site-packages\\sklearn\\model_selection\\_validation.py\", line 531, in _fit_and_score\n",
      "    estimator.fit(X_train, y_train, **fit_params)\n",
      "  File \"C:\\Users\\Lucas\\miniconda3\\envs\\ds2\\lib\\site-packages\\sklearn\\ensemble\\_forest.py\", line 348, in fit\n",
      "    self._validate_estimator()\n",
      "  File \"C:\\Users\\Lucas\\miniconda3\\envs\\ds2\\lib\\site-packages\\sklearn\\ensemble\\_base.py\", line 134, in _validate_estimator\n",
      "    raise ValueError(\"n_estimators must be greater than zero, \"\n",
      "ValueError: n_estimators must be greater than zero, got 0.\n",
      "\n",
      "  warnings.warn(\"Estimator fit failed. The score on this train-test\"\n"
     ]
    }
   ],
   "source": [
    "rf_random = RandomizedSearchCV(model_rf, param_dist_rf, cv=3)\n",
    "search_rf = rf_random.fit(xtrain.astype(\"float16\"), ytrain)\n",
    "mejor_rf = search_rf.best_params_"
   ]
  },
  {
   "cell_type": "code",
   "execution_count": 50,
   "id": "defensive-hometown",
   "metadata": {},
   "outputs": [
    {
     "data": {
      "text/plain": [
       "{'random_state': 42, 'n_estimators': 100, 'max_depth': 70}"
      ]
     },
     "execution_count": 50,
     "metadata": {},
     "output_type": "execute_result"
    }
   ],
   "source": [
    "mejor_rf"
   ]
  },
  {
   "cell_type": "code",
   "execution_count": 51,
   "id": "stable-sword",
   "metadata": {},
   "outputs": [],
   "source": [
    "rf_model = search_rf.best_estimator_"
   ]
  },
  {
   "cell_type": "code",
   "execution_count": 52,
   "id": "similar-wings",
   "metadata": {},
   "outputs": [
    {
     "name": "stdout",
     "output_type": "stream",
     "text": [
      "acc:  0.4951\n"
     ]
    }
   ],
   "source": [
    "print(\"acc: \",rf_model.score(xtest,ytest))"
   ]
  },
  {
   "cell_type": "markdown",
   "id": "positive-engineering",
   "metadata": {},
   "source": [
    "### Podemos observar que la metrica mejora levemente"
   ]
  },
  {
   "cell_type": "markdown",
   "id": "defensive-publisher",
   "metadata": {},
   "source": [
    "LINEAR SVC"
   ]
  },
  {
   "cell_type": "code",
   "execution_count": 53,
   "id": "sized-apple",
   "metadata": {},
   "outputs": [
    {
     "data": {
      "text/plain": [
       "dict_keys(['C', 'class_weight', 'dual', 'fit_intercept', 'intercept_scaling', 'loss', 'max_iter', 'multi_class', 'penalty', 'random_state', 'tol', 'verbose'])"
      ]
     },
     "execution_count": 53,
     "metadata": {},
     "output_type": "execute_result"
    }
   ],
   "source": [
    "model_lsvc.get_params().keys()"
   ]
  },
  {
   "cell_type": "code",
   "execution_count": 54,
   "id": "complimentary-pound",
   "metadata": {},
   "outputs": [],
   "source": [
    "param_dist_lsvc = {'penalty': ['l1', 'l2'],\n",
    "              'C': [1,2,4,6,8,10],\n",
    "              }"
   ]
  },
  {
   "cell_type": "code",
   "execution_count": 55,
   "id": "black-trail",
   "metadata": {},
   "outputs": [],
   "source": [
    "lsvc_random = RandomizedSearchCV(model_lsvc, param_dist_lsvc, cv=3)"
   ]
  },
  {
   "cell_type": "code",
   "execution_count": 56,
   "id": "supreme-indonesian",
   "metadata": {},
   "outputs": [
    {
     "name": "stderr",
     "output_type": "stream",
     "text": [
      "C:\\Users\\Lucas\\miniconda3\\envs\\ds2\\lib\\site-packages\\sklearn\\model_selection\\_validation.py:548: FitFailedWarning: Estimator fit failed. The score on this train-test partition for these parameters will be set to nan. Details: \n",
      "Traceback (most recent call last):\n",
      "  File \"C:\\Users\\Lucas\\miniconda3\\envs\\ds2\\lib\\site-packages\\sklearn\\model_selection\\_validation.py\", line 531, in _fit_and_score\n",
      "    estimator.fit(X_train, y_train, **fit_params)\n",
      "  File \"C:\\Users\\Lucas\\miniconda3\\envs\\ds2\\lib\\site-packages\\sklearn\\svm\\_classes.py\", line 233, in fit\n",
      "    self.coef_, self.intercept_, self.n_iter_ = _fit_liblinear(\n",
      "  File \"C:\\Users\\Lucas\\miniconda3\\envs\\ds2\\lib\\site-packages\\sklearn\\svm\\_base.py\", line 965, in _fit_liblinear\n",
      "    solver_type = _get_liblinear_solver_type(multi_class, penalty, loss, dual)\n",
      "  File \"C:\\Users\\Lucas\\miniconda3\\envs\\ds2\\lib\\site-packages\\sklearn\\svm\\_base.py\", line 821, in _get_liblinear_solver_type\n",
      "    raise ValueError('Unsupported set of arguments: %s, '\n",
      "ValueError: Unsupported set of arguments: The combination of penalty='l1' and loss='squared_hinge' are not supported when dual=True, Parameters: penalty='l1', loss='squared_hinge', dual=True\n",
      "\n",
      "  warnings.warn(\"Estimator fit failed. The score on this train-test\"\n",
      "C:\\Users\\Lucas\\miniconda3\\envs\\ds2\\lib\\site-packages\\sklearn\\model_selection\\_validation.py:548: FitFailedWarning: Estimator fit failed. The score on this train-test partition for these parameters will be set to nan. Details: \n",
      "Traceback (most recent call last):\n",
      "  File \"C:\\Users\\Lucas\\miniconda3\\envs\\ds2\\lib\\site-packages\\sklearn\\model_selection\\_validation.py\", line 531, in _fit_and_score\n",
      "    estimator.fit(X_train, y_train, **fit_params)\n",
      "  File \"C:\\Users\\Lucas\\miniconda3\\envs\\ds2\\lib\\site-packages\\sklearn\\svm\\_classes.py\", line 233, in fit\n",
      "    self.coef_, self.intercept_, self.n_iter_ = _fit_liblinear(\n",
      "  File \"C:\\Users\\Lucas\\miniconda3\\envs\\ds2\\lib\\site-packages\\sklearn\\svm\\_base.py\", line 965, in _fit_liblinear\n",
      "    solver_type = _get_liblinear_solver_type(multi_class, penalty, loss, dual)\n",
      "  File \"C:\\Users\\Lucas\\miniconda3\\envs\\ds2\\lib\\site-packages\\sklearn\\svm\\_base.py\", line 821, in _get_liblinear_solver_type\n",
      "    raise ValueError('Unsupported set of arguments: %s, '\n",
      "ValueError: Unsupported set of arguments: The combination of penalty='l1' and loss='squared_hinge' are not supported when dual=True, Parameters: penalty='l1', loss='squared_hinge', dual=True\n",
      "\n",
      "  warnings.warn(\"Estimator fit failed. The score on this train-test\"\n",
      "C:\\Users\\Lucas\\miniconda3\\envs\\ds2\\lib\\site-packages\\sklearn\\model_selection\\_validation.py:548: FitFailedWarning: Estimator fit failed. The score on this train-test partition for these parameters will be set to nan. Details: \n",
      "Traceback (most recent call last):\n",
      "  File \"C:\\Users\\Lucas\\miniconda3\\envs\\ds2\\lib\\site-packages\\sklearn\\model_selection\\_validation.py\", line 531, in _fit_and_score\n",
      "    estimator.fit(X_train, y_train, **fit_params)\n",
      "  File \"C:\\Users\\Lucas\\miniconda3\\envs\\ds2\\lib\\site-packages\\sklearn\\svm\\_classes.py\", line 233, in fit\n",
      "    self.coef_, self.intercept_, self.n_iter_ = _fit_liblinear(\n",
      "  File \"C:\\Users\\Lucas\\miniconda3\\envs\\ds2\\lib\\site-packages\\sklearn\\svm\\_base.py\", line 965, in _fit_liblinear\n",
      "    solver_type = _get_liblinear_solver_type(multi_class, penalty, loss, dual)\n",
      "  File \"C:\\Users\\Lucas\\miniconda3\\envs\\ds2\\lib\\site-packages\\sklearn\\svm\\_base.py\", line 821, in _get_liblinear_solver_type\n",
      "    raise ValueError('Unsupported set of arguments: %s, '\n",
      "ValueError: Unsupported set of arguments: The combination of penalty='l1' and loss='squared_hinge' are not supported when dual=True, Parameters: penalty='l1', loss='squared_hinge', dual=True\n",
      "\n",
      "  warnings.warn(\"Estimator fit failed. The score on this train-test\"\n",
      "C:\\Users\\Lucas\\miniconda3\\envs\\ds2\\lib\\site-packages\\sklearn\\model_selection\\_validation.py:548: FitFailedWarning: Estimator fit failed. The score on this train-test partition for these parameters will be set to nan. Details: \n",
      "Traceback (most recent call last):\n",
      "  File \"C:\\Users\\Lucas\\miniconda3\\envs\\ds2\\lib\\site-packages\\sklearn\\model_selection\\_validation.py\", line 531, in _fit_and_score\n",
      "    estimator.fit(X_train, y_train, **fit_params)\n",
      "  File \"C:\\Users\\Lucas\\miniconda3\\envs\\ds2\\lib\\site-packages\\sklearn\\svm\\_classes.py\", line 233, in fit\n",
      "    self.coef_, self.intercept_, self.n_iter_ = _fit_liblinear(\n",
      "  File \"C:\\Users\\Lucas\\miniconda3\\envs\\ds2\\lib\\site-packages\\sklearn\\svm\\_base.py\", line 965, in _fit_liblinear\n",
      "    solver_type = _get_liblinear_solver_type(multi_class, penalty, loss, dual)\n",
      "  File \"C:\\Users\\Lucas\\miniconda3\\envs\\ds2\\lib\\site-packages\\sklearn\\svm\\_base.py\", line 821, in _get_liblinear_solver_type\n",
      "    raise ValueError('Unsupported set of arguments: %s, '\n",
      "ValueError: Unsupported set of arguments: The combination of penalty='l1' and loss='squared_hinge' are not supported when dual=True, Parameters: penalty='l1', loss='squared_hinge', dual=True\n",
      "\n",
      "  warnings.warn(\"Estimator fit failed. The score on this train-test\"\n",
      "C:\\Users\\Lucas\\miniconda3\\envs\\ds2\\lib\\site-packages\\sklearn\\model_selection\\_validation.py:548: FitFailedWarning: Estimator fit failed. The score on this train-test partition for these parameters will be set to nan. Details: \n",
      "Traceback (most recent call last):\n",
      "  File \"C:\\Users\\Lucas\\miniconda3\\envs\\ds2\\lib\\site-packages\\sklearn\\model_selection\\_validation.py\", line 531, in _fit_and_score\n",
      "    estimator.fit(X_train, y_train, **fit_params)\n",
      "  File \"C:\\Users\\Lucas\\miniconda3\\envs\\ds2\\lib\\site-packages\\sklearn\\svm\\_classes.py\", line 233, in fit\n",
      "    self.coef_, self.intercept_, self.n_iter_ = _fit_liblinear(\n",
      "  File \"C:\\Users\\Lucas\\miniconda3\\envs\\ds2\\lib\\site-packages\\sklearn\\svm\\_base.py\", line 965, in _fit_liblinear\n",
      "    solver_type = _get_liblinear_solver_type(multi_class, penalty, loss, dual)\n",
      "  File \"C:\\Users\\Lucas\\miniconda3\\envs\\ds2\\lib\\site-packages\\sklearn\\svm\\_base.py\", line 821, in _get_liblinear_solver_type\n",
      "    raise ValueError('Unsupported set of arguments: %s, '\n",
      "ValueError: Unsupported set of arguments: The combination of penalty='l1' and loss='squared_hinge' are not supported when dual=True, Parameters: penalty='l1', loss='squared_hinge', dual=True\n",
      "\n",
      "  warnings.warn(\"Estimator fit failed. The score on this train-test\"\n",
      "C:\\Users\\Lucas\\miniconda3\\envs\\ds2\\lib\\site-packages\\sklearn\\model_selection\\_validation.py:548: FitFailedWarning: Estimator fit failed. The score on this train-test partition for these parameters will be set to nan. Details: \n",
      "Traceback (most recent call last):\n",
      "  File \"C:\\Users\\Lucas\\miniconda3\\envs\\ds2\\lib\\site-packages\\sklearn\\model_selection\\_validation.py\", line 531, in _fit_and_score\n",
      "    estimator.fit(X_train, y_train, **fit_params)\n",
      "  File \"C:\\Users\\Lucas\\miniconda3\\envs\\ds2\\lib\\site-packages\\sklearn\\svm\\_classes.py\", line 233, in fit\n",
      "    self.coef_, self.intercept_, self.n_iter_ = _fit_liblinear(\n",
      "  File \"C:\\Users\\Lucas\\miniconda3\\envs\\ds2\\lib\\site-packages\\sklearn\\svm\\_base.py\", line 965, in _fit_liblinear\n",
      "    solver_type = _get_liblinear_solver_type(multi_class, penalty, loss, dual)\n",
      "  File \"C:\\Users\\Lucas\\miniconda3\\envs\\ds2\\lib\\site-packages\\sklearn\\svm\\_base.py\", line 821, in _get_liblinear_solver_type\n",
      "    raise ValueError('Unsupported set of arguments: %s, '\n",
      "ValueError: Unsupported set of arguments: The combination of penalty='l1' and loss='squared_hinge' are not supported when dual=True, Parameters: penalty='l1', loss='squared_hinge', dual=True\n",
      "\n",
      "  warnings.warn(\"Estimator fit failed. The score on this train-test\"\n",
      "C:\\Users\\Lucas\\miniconda3\\envs\\ds2\\lib\\site-packages\\sklearn\\model_selection\\_validation.py:548: FitFailedWarning: Estimator fit failed. The score on this train-test partition for these parameters will be set to nan. Details: \n",
      "Traceback (most recent call last):\n",
      "  File \"C:\\Users\\Lucas\\miniconda3\\envs\\ds2\\lib\\site-packages\\sklearn\\model_selection\\_validation.py\", line 531, in _fit_and_score\n",
      "    estimator.fit(X_train, y_train, **fit_params)\n",
      "  File \"C:\\Users\\Lucas\\miniconda3\\envs\\ds2\\lib\\site-packages\\sklearn\\svm\\_classes.py\", line 233, in fit\n",
      "    self.coef_, self.intercept_, self.n_iter_ = _fit_liblinear(\n",
      "  File \"C:\\Users\\Lucas\\miniconda3\\envs\\ds2\\lib\\site-packages\\sklearn\\svm\\_base.py\", line 965, in _fit_liblinear\n",
      "    solver_type = _get_liblinear_solver_type(multi_class, penalty, loss, dual)\n",
      "  File \"C:\\Users\\Lucas\\miniconda3\\envs\\ds2\\lib\\site-packages\\sklearn\\svm\\_base.py\", line 821, in _get_liblinear_solver_type\n",
      "    raise ValueError('Unsupported set of arguments: %s, '\n",
      "ValueError: Unsupported set of arguments: The combination of penalty='l1' and loss='squared_hinge' are not supported when dual=True, Parameters: penalty='l1', loss='squared_hinge', dual=True\n",
      "\n",
      "  warnings.warn(\"Estimator fit failed. The score on this train-test\"\n",
      "C:\\Users\\Lucas\\miniconda3\\envs\\ds2\\lib\\site-packages\\sklearn\\model_selection\\_validation.py:548: FitFailedWarning: Estimator fit failed. The score on this train-test partition for these parameters will be set to nan. Details: \n",
      "Traceback (most recent call last):\n",
      "  File \"C:\\Users\\Lucas\\miniconda3\\envs\\ds2\\lib\\site-packages\\sklearn\\model_selection\\_validation.py\", line 531, in _fit_and_score\n",
      "    estimator.fit(X_train, y_train, **fit_params)\n",
      "  File \"C:\\Users\\Lucas\\miniconda3\\envs\\ds2\\lib\\site-packages\\sklearn\\svm\\_classes.py\", line 233, in fit\n",
      "    self.coef_, self.intercept_, self.n_iter_ = _fit_liblinear(\n",
      "  File \"C:\\Users\\Lucas\\miniconda3\\envs\\ds2\\lib\\site-packages\\sklearn\\svm\\_base.py\", line 965, in _fit_liblinear\n",
      "    solver_type = _get_liblinear_solver_type(multi_class, penalty, loss, dual)\n",
      "  File \"C:\\Users\\Lucas\\miniconda3\\envs\\ds2\\lib\\site-packages\\sklearn\\svm\\_base.py\", line 821, in _get_liblinear_solver_type\n",
      "    raise ValueError('Unsupported set of arguments: %s, '\n",
      "ValueError: Unsupported set of arguments: The combination of penalty='l1' and loss='squared_hinge' are not supported when dual=True, Parameters: penalty='l1', loss='squared_hinge', dual=True\n",
      "\n",
      "  warnings.warn(\"Estimator fit failed. The score on this train-test\"\n",
      "C:\\Users\\Lucas\\miniconda3\\envs\\ds2\\lib\\site-packages\\sklearn\\model_selection\\_validation.py:548: FitFailedWarning: Estimator fit failed. The score on this train-test partition for these parameters will be set to nan. Details: \n",
      "Traceback (most recent call last):\n",
      "  File \"C:\\Users\\Lucas\\miniconda3\\envs\\ds2\\lib\\site-packages\\sklearn\\model_selection\\_validation.py\", line 531, in _fit_and_score\n",
      "    estimator.fit(X_train, y_train, **fit_params)\n",
      "  File \"C:\\Users\\Lucas\\miniconda3\\envs\\ds2\\lib\\site-packages\\sklearn\\svm\\_classes.py\", line 233, in fit\n",
      "    self.coef_, self.intercept_, self.n_iter_ = _fit_liblinear(\n",
      "  File \"C:\\Users\\Lucas\\miniconda3\\envs\\ds2\\lib\\site-packages\\sklearn\\svm\\_base.py\", line 965, in _fit_liblinear\n",
      "    solver_type = _get_liblinear_solver_type(multi_class, penalty, loss, dual)\n",
      "  File \"C:\\Users\\Lucas\\miniconda3\\envs\\ds2\\lib\\site-packages\\sklearn\\svm\\_base.py\", line 821, in _get_liblinear_solver_type\n",
      "    raise ValueError('Unsupported set of arguments: %s, '\n",
      "ValueError: Unsupported set of arguments: The combination of penalty='l1' and loss='squared_hinge' are not supported when dual=True, Parameters: penalty='l1', loss='squared_hinge', dual=True\n",
      "\n",
      "  warnings.warn(\"Estimator fit failed. The score on this train-test\"\n",
      "C:\\Users\\Lucas\\miniconda3\\envs\\ds2\\lib\\site-packages\\sklearn\\model_selection\\_validation.py:548: FitFailedWarning: Estimator fit failed. The score on this train-test partition for these parameters will be set to nan. Details: \n",
      "Traceback (most recent call last):\n",
      "  File \"C:\\Users\\Lucas\\miniconda3\\envs\\ds2\\lib\\site-packages\\sklearn\\model_selection\\_validation.py\", line 531, in _fit_and_score\n",
      "    estimator.fit(X_train, y_train, **fit_params)\n",
      "  File \"C:\\Users\\Lucas\\miniconda3\\envs\\ds2\\lib\\site-packages\\sklearn\\svm\\_classes.py\", line 233, in fit\n",
      "    self.coef_, self.intercept_, self.n_iter_ = _fit_liblinear(\n",
      "  File \"C:\\Users\\Lucas\\miniconda3\\envs\\ds2\\lib\\site-packages\\sklearn\\svm\\_base.py\", line 965, in _fit_liblinear\n",
      "    solver_type = _get_liblinear_solver_type(multi_class, penalty, loss, dual)\n",
      "  File \"C:\\Users\\Lucas\\miniconda3\\envs\\ds2\\lib\\site-packages\\sklearn\\svm\\_base.py\", line 821, in _get_liblinear_solver_type\n",
      "    raise ValueError('Unsupported set of arguments: %s, '\n",
      "ValueError: Unsupported set of arguments: The combination of penalty='l1' and loss='squared_hinge' are not supported when dual=True, Parameters: penalty='l1', loss='squared_hinge', dual=True\n",
      "\n",
      "  warnings.warn(\"Estimator fit failed. The score on this train-test\"\n",
      "C:\\Users\\Lucas\\miniconda3\\envs\\ds2\\lib\\site-packages\\sklearn\\model_selection\\_validation.py:548: FitFailedWarning: Estimator fit failed. The score on this train-test partition for these parameters will be set to nan. Details: \n",
      "Traceback (most recent call last):\n",
      "  File \"C:\\Users\\Lucas\\miniconda3\\envs\\ds2\\lib\\site-packages\\sklearn\\model_selection\\_validation.py\", line 531, in _fit_and_score\n",
      "    estimator.fit(X_train, y_train, **fit_params)\n",
      "  File \"C:\\Users\\Lucas\\miniconda3\\envs\\ds2\\lib\\site-packages\\sklearn\\svm\\_classes.py\", line 233, in fit\n",
      "    self.coef_, self.intercept_, self.n_iter_ = _fit_liblinear(\n",
      "  File \"C:\\Users\\Lucas\\miniconda3\\envs\\ds2\\lib\\site-packages\\sklearn\\svm\\_base.py\", line 965, in _fit_liblinear\n",
      "    solver_type = _get_liblinear_solver_type(multi_class, penalty, loss, dual)\n",
      "  File \"C:\\Users\\Lucas\\miniconda3\\envs\\ds2\\lib\\site-packages\\sklearn\\svm\\_base.py\", line 821, in _get_liblinear_solver_type\n",
      "    raise ValueError('Unsupported set of arguments: %s, '\n",
      "ValueError: Unsupported set of arguments: The combination of penalty='l1' and loss='squared_hinge' are not supported when dual=True, Parameters: penalty='l1', loss='squared_hinge', dual=True\n",
      "\n",
      "  warnings.warn(\"Estimator fit failed. The score on this train-test\"\n",
      "C:\\Users\\Lucas\\miniconda3\\envs\\ds2\\lib\\site-packages\\sklearn\\model_selection\\_validation.py:548: FitFailedWarning: Estimator fit failed. The score on this train-test partition for these parameters will be set to nan. Details: \n",
      "Traceback (most recent call last):\n",
      "  File \"C:\\Users\\Lucas\\miniconda3\\envs\\ds2\\lib\\site-packages\\sklearn\\model_selection\\_validation.py\", line 531, in _fit_and_score\n",
      "    estimator.fit(X_train, y_train, **fit_params)\n",
      "  File \"C:\\Users\\Lucas\\miniconda3\\envs\\ds2\\lib\\site-packages\\sklearn\\svm\\_classes.py\", line 233, in fit\n",
      "    self.coef_, self.intercept_, self.n_iter_ = _fit_liblinear(\n",
      "  File \"C:\\Users\\Lucas\\miniconda3\\envs\\ds2\\lib\\site-packages\\sklearn\\svm\\_base.py\", line 965, in _fit_liblinear\n",
      "    solver_type = _get_liblinear_solver_type(multi_class, penalty, loss, dual)\n",
      "  File \"C:\\Users\\Lucas\\miniconda3\\envs\\ds2\\lib\\site-packages\\sklearn\\svm\\_base.py\", line 821, in _get_liblinear_solver_type\n",
      "    raise ValueError('Unsupported set of arguments: %s, '\n",
      "ValueError: Unsupported set of arguments: The combination of penalty='l1' and loss='squared_hinge' are not supported when dual=True, Parameters: penalty='l1', loss='squared_hinge', dual=True\n",
      "\n",
      "  warnings.warn(\"Estimator fit failed. The score on this train-test\"\n",
      "C:\\Users\\Lucas\\miniconda3\\envs\\ds2\\lib\\site-packages\\sklearn\\model_selection\\_validation.py:548: FitFailedWarning: Estimator fit failed. The score on this train-test partition for these parameters will be set to nan. Details: \n",
      "Traceback (most recent call last):\n",
      "  File \"C:\\Users\\Lucas\\miniconda3\\envs\\ds2\\lib\\site-packages\\sklearn\\model_selection\\_validation.py\", line 531, in _fit_and_score\n",
      "    estimator.fit(X_train, y_train, **fit_params)\n",
      "  File \"C:\\Users\\Lucas\\miniconda3\\envs\\ds2\\lib\\site-packages\\sklearn\\svm\\_classes.py\", line 233, in fit\n",
      "    self.coef_, self.intercept_, self.n_iter_ = _fit_liblinear(\n",
      "  File \"C:\\Users\\Lucas\\miniconda3\\envs\\ds2\\lib\\site-packages\\sklearn\\svm\\_base.py\", line 965, in _fit_liblinear\n",
      "    solver_type = _get_liblinear_solver_type(multi_class, penalty, loss, dual)\n",
      "  File \"C:\\Users\\Lucas\\miniconda3\\envs\\ds2\\lib\\site-packages\\sklearn\\svm\\_base.py\", line 821, in _get_liblinear_solver_type\n",
      "    raise ValueError('Unsupported set of arguments: %s, '\n",
      "ValueError: Unsupported set of arguments: The combination of penalty='l1' and loss='squared_hinge' are not supported when dual=True, Parameters: penalty='l1', loss='squared_hinge', dual=True\n",
      "\n",
      "  warnings.warn(\"Estimator fit failed. The score on this train-test\"\n",
      "C:\\Users\\Lucas\\miniconda3\\envs\\ds2\\lib\\site-packages\\sklearn\\model_selection\\_validation.py:548: FitFailedWarning: Estimator fit failed. The score on this train-test partition for these parameters will be set to nan. Details: \n",
      "Traceback (most recent call last):\n",
      "  File \"C:\\Users\\Lucas\\miniconda3\\envs\\ds2\\lib\\site-packages\\sklearn\\model_selection\\_validation.py\", line 531, in _fit_and_score\n",
      "    estimator.fit(X_train, y_train, **fit_params)\n",
      "  File \"C:\\Users\\Lucas\\miniconda3\\envs\\ds2\\lib\\site-packages\\sklearn\\svm\\_classes.py\", line 233, in fit\n",
      "    self.coef_, self.intercept_, self.n_iter_ = _fit_liblinear(\n",
      "  File \"C:\\Users\\Lucas\\miniconda3\\envs\\ds2\\lib\\site-packages\\sklearn\\svm\\_base.py\", line 965, in _fit_liblinear\n",
      "    solver_type = _get_liblinear_solver_type(multi_class, penalty, loss, dual)\n",
      "  File \"C:\\Users\\Lucas\\miniconda3\\envs\\ds2\\lib\\site-packages\\sklearn\\svm\\_base.py\", line 821, in _get_liblinear_solver_type\n",
      "    raise ValueError('Unsupported set of arguments: %s, '\n",
      "ValueError: Unsupported set of arguments: The combination of penalty='l1' and loss='squared_hinge' are not supported when dual=True, Parameters: penalty='l1', loss='squared_hinge', dual=True\n",
      "\n",
      "  warnings.warn(\"Estimator fit failed. The score on this train-test\"\n",
      "C:\\Users\\Lucas\\miniconda3\\envs\\ds2\\lib\\site-packages\\sklearn\\model_selection\\_validation.py:548: FitFailedWarning: Estimator fit failed. The score on this train-test partition for these parameters will be set to nan. Details: \n",
      "Traceback (most recent call last):\n",
      "  File \"C:\\Users\\Lucas\\miniconda3\\envs\\ds2\\lib\\site-packages\\sklearn\\model_selection\\_validation.py\", line 531, in _fit_and_score\n",
      "    estimator.fit(X_train, y_train, **fit_params)\n",
      "  File \"C:\\Users\\Lucas\\miniconda3\\envs\\ds2\\lib\\site-packages\\sklearn\\svm\\_classes.py\", line 233, in fit\n",
      "    self.coef_, self.intercept_, self.n_iter_ = _fit_liblinear(\n",
      "  File \"C:\\Users\\Lucas\\miniconda3\\envs\\ds2\\lib\\site-packages\\sklearn\\svm\\_base.py\", line 965, in _fit_liblinear\n",
      "    solver_type = _get_liblinear_solver_type(multi_class, penalty, loss, dual)\n",
      "  File \"C:\\Users\\Lucas\\miniconda3\\envs\\ds2\\lib\\site-packages\\sklearn\\svm\\_base.py\", line 821, in _get_liblinear_solver_type\n",
      "    raise ValueError('Unsupported set of arguments: %s, '\n",
      "ValueError: Unsupported set of arguments: The combination of penalty='l1' and loss='squared_hinge' are not supported when dual=True, Parameters: penalty='l1', loss='squared_hinge', dual=True\n",
      "\n",
      "  warnings.warn(\"Estimator fit failed. The score on this train-test\"\n"
     ]
    }
   ],
   "source": [
    "search_lsvc= lsvc_random.fit(xtrain.astype(\"float16\"), ytrain)"
   ]
  },
  {
   "cell_type": "code",
   "execution_count": 57,
   "id": "plastic-mechanics",
   "metadata": {},
   "outputs": [],
   "source": [
    "mejor_lsvc = search_lsvc.best_params_"
   ]
  },
  {
   "cell_type": "code",
   "execution_count": 58,
   "id": "plain-belize",
   "metadata": {},
   "outputs": [
    {
     "data": {
      "text/plain": [
       "{'penalty': 'l2', 'C': 1}"
      ]
     },
     "execution_count": 58,
     "metadata": {},
     "output_type": "execute_result"
    }
   ],
   "source": [
    "mejor_lsvc"
   ]
  },
  {
   "cell_type": "code",
   "execution_count": 59,
   "id": "understood-suicide",
   "metadata": {},
   "outputs": [
    {
     "name": "stdout",
     "output_type": "stream",
     "text": [
      "acc:  0.5150333333333333\n"
     ]
    }
   ],
   "source": [
    "print(\"acc: \",search_lsvc.score(xtest,ytest))"
   ]
  },
  {
   "cell_type": "markdown",
   "id": "champion-onion",
   "metadata": {},
   "source": [
    "### Podemos observar que la metrica queda practicamente igual"
   ]
  },
  {
   "cell_type": "markdown",
   "id": "spare-corps",
   "metadata": {},
   "source": [
    "Regresion logistica"
   ]
  },
  {
   "cell_type": "code",
   "execution_count": 60,
   "id": "afraid-young",
   "metadata": {},
   "outputs": [
    {
     "data": {
      "text/plain": [
       "dict_keys(['C', 'class_weight', 'dual', 'fit_intercept', 'intercept_scaling', 'l1_ratio', 'max_iter', 'multi_class', 'n_jobs', 'penalty', 'random_state', 'solver', 'tol', 'verbose', 'warm_start'])"
      ]
     },
     "execution_count": 60,
     "metadata": {},
     "output_type": "execute_result"
    }
   ],
   "source": [
    "model_lr.get_params().keys()"
   ]
  },
  {
   "cell_type": "code",
   "execution_count": 61,
   "id": "blessed-lodge",
   "metadata": {},
   "outputs": [],
   "source": [
    "param_dist_lr = {'penalty': ['l1', 'l2'],\n",
    "              'max_iter': [1000, 1500],\n",
    "              'C': [1,2,4,6,8,10]              \n",
    "              }"
   ]
  },
  {
   "cell_type": "code",
   "execution_count": 63,
   "id": "extensive-apache",
   "metadata": {},
   "outputs": [
    {
     "name": "stderr",
     "output_type": "stream",
     "text": [
      "C:\\Users\\Lucas\\miniconda3\\envs\\ds2\\lib\\site-packages\\sklearn\\model_selection\\_validation.py:548: FitFailedWarning: Estimator fit failed. The score on this train-test partition for these parameters will be set to nan. Details: \n",
      "Traceback (most recent call last):\n",
      "  File \"C:\\Users\\Lucas\\miniconda3\\envs\\ds2\\lib\\site-packages\\sklearn\\model_selection\\_validation.py\", line 531, in _fit_and_score\n",
      "    estimator.fit(X_train, y_train, **fit_params)\n",
      "  File \"C:\\Users\\Lucas\\miniconda3\\envs\\ds2\\lib\\site-packages\\sklearn\\linear_model\\_logistic.py\", line 1304, in fit\n",
      "    solver = _check_solver(self.solver, self.penalty, self.dual)\n",
      "  File \"C:\\Users\\Lucas\\miniconda3\\envs\\ds2\\lib\\site-packages\\sklearn\\linear_model\\_logistic.py\", line 442, in _check_solver\n",
      "    raise ValueError(\"Solver %s supports only 'l2' or 'none' penalties, \"\n",
      "ValueError: Solver lbfgs supports only 'l2' or 'none' penalties, got l1 penalty.\n",
      "\n",
      "  warnings.warn(\"Estimator fit failed. The score on this train-test\"\n",
      "C:\\Users\\Lucas\\miniconda3\\envs\\ds2\\lib\\site-packages\\sklearn\\model_selection\\_validation.py:548: FitFailedWarning: Estimator fit failed. The score on this train-test partition for these parameters will be set to nan. Details: \n",
      "Traceback (most recent call last):\n",
      "  File \"C:\\Users\\Lucas\\miniconda3\\envs\\ds2\\lib\\site-packages\\sklearn\\model_selection\\_validation.py\", line 531, in _fit_and_score\n",
      "    estimator.fit(X_train, y_train, **fit_params)\n",
      "  File \"C:\\Users\\Lucas\\miniconda3\\envs\\ds2\\lib\\site-packages\\sklearn\\linear_model\\_logistic.py\", line 1304, in fit\n",
      "    solver = _check_solver(self.solver, self.penalty, self.dual)\n",
      "  File \"C:\\Users\\Lucas\\miniconda3\\envs\\ds2\\lib\\site-packages\\sklearn\\linear_model\\_logistic.py\", line 442, in _check_solver\n",
      "    raise ValueError(\"Solver %s supports only 'l2' or 'none' penalties, \"\n",
      "ValueError: Solver lbfgs supports only 'l2' or 'none' penalties, got l1 penalty.\n",
      "\n",
      "  warnings.warn(\"Estimator fit failed. The score on this train-test\"\n",
      "C:\\Users\\Lucas\\miniconda3\\envs\\ds2\\lib\\site-packages\\sklearn\\model_selection\\_validation.py:548: FitFailedWarning: Estimator fit failed. The score on this train-test partition for these parameters will be set to nan. Details: \n",
      "Traceback (most recent call last):\n",
      "  File \"C:\\Users\\Lucas\\miniconda3\\envs\\ds2\\lib\\site-packages\\sklearn\\model_selection\\_validation.py\", line 531, in _fit_and_score\n",
      "    estimator.fit(X_train, y_train, **fit_params)\n",
      "  File \"C:\\Users\\Lucas\\miniconda3\\envs\\ds2\\lib\\site-packages\\sklearn\\linear_model\\_logistic.py\", line 1304, in fit\n",
      "    solver = _check_solver(self.solver, self.penalty, self.dual)\n",
      "  File \"C:\\Users\\Lucas\\miniconda3\\envs\\ds2\\lib\\site-packages\\sklearn\\linear_model\\_logistic.py\", line 442, in _check_solver\n",
      "    raise ValueError(\"Solver %s supports only 'l2' or 'none' penalties, \"\n",
      "ValueError: Solver lbfgs supports only 'l2' or 'none' penalties, got l1 penalty.\n",
      "\n",
      "  warnings.warn(\"Estimator fit failed. The score on this train-test\"\n"
     ]
    }
   ],
   "source": [
    "lr_random = RandomizedSearchCV(model_lr, param_dist_lr, cv=3)\n",
    "search_lr= lr_random.fit(xtrain, ytrain)"
   ]
  },
  {
   "cell_type": "code",
   "execution_count": 64,
   "id": "relative-massachusetts",
   "metadata": {},
   "outputs": [],
   "source": [
    "mejor_lr = search_lr.best_params_"
   ]
  },
  {
   "cell_type": "code",
   "execution_count": 65,
   "id": "still-stanford",
   "metadata": {},
   "outputs": [
    {
     "data": {
      "text/plain": [
       "{'penalty': 'l2', 'max_iter': 1500, 'C': 6}"
      ]
     },
     "execution_count": 65,
     "metadata": {},
     "output_type": "execute_result"
    }
   ],
   "source": [
    "mejor_lr"
   ]
  },
  {
   "cell_type": "code",
   "execution_count": 66,
   "id": "inner-guarantee",
   "metadata": {},
   "outputs": [
    {
     "name": "stdout",
     "output_type": "stream",
     "text": [
      "acc:  0.5183166666666666\n"
     ]
    }
   ],
   "source": [
    "print(\"acc: \",search_lr.score(xtest,ytest))"
   ]
  },
  {
   "cell_type": "markdown",
   "id": "included-ordering",
   "metadata": {},
   "source": [
    "### Podemos observar que la metrica no aumenta"
   ]
  },
  {
   "cell_type": "markdown",
   "id": "spread-thickness",
   "metadata": {},
   "source": [
    "## LEMMATIZATION"
   ]
  },
  {
   "cell_type": "markdown",
   "id": "incredible-immunology",
   "metadata": {},
   "source": [
    "### Aqui usamos expresiones regulares para limpiar el texto en espanol, lo llevamos a minusculas, tokenizamos, quitamos aquellas que tienen menos de dos palabras, filtramos las stopwords y lemmatizamos con la funcion _lemma de spicy, al resultado lo dejamos en una lista"
   ]
  },
  {
   "cell_type": "code",
   "execution_count": 67,
   "id": "broke-shopper",
   "metadata": {},
   "outputs": [],
   "source": [
    "# Recorremos todos los titulos y le vamos aplicando la Normalizacion y luega lematizacion a cada uno\n",
    "review_list_lem=[]\n",
    "\n",
    "for coment_lem in df_base.text_concat:\n",
    "    # Limpieza\n",
    "    \n",
    "    coment_lem=re.sub(\"\\[.*?¿\\]\\%\", ' ',str(coment_lem))   #\"[^a-zA-Z]\",\" \"\n",
    "    coment_lem=re.sub(r'[0-9]+', '',str(coment_lem))\n",
    "    coment_lem=re.sub(\n",
    "        r\"([^n\\u0300-\\u036f]|n(?!\\u0303(?![\\u0300-\\u036f])))[\\u0300-\\u036f]+\", r\"\\1\", \n",
    "        normalize( \"NFD\", coment_lem), 0, re.I)\n",
    "    #coment=normalize( 'NFC', coment)\n",
    "    coment_lem=coment_lem.replace(\",\",\"\")\n",
    "    coment_lem=coment_lem.strip()\n",
    "    \n",
    "    # Pasamos todo a minúscula\n",
    "    coment_lem=coment_lem.lower()\n",
    "    # Tokenizamos para separar las palabras del titular\n",
    "    coment_lem= nltk.word_tokenize(coment_lem)\n",
    "    \n",
    "     # Eliminamos las palabras de menos de 3 letras\n",
    "    coment_lem = [palabra for palabra in coment_lem if len(coment_lem)>2]\n",
    "    \n",
    "    # Sacamos las Stopwords\n",
    "    coment_lem = [palabra for palabra in coment_lem if not palabra in stopwords_es]\n",
    "    \n",
    "    ## Hasta acá Normalizamos, ahora a lematizar\n",
    "    coment_lem = \" \".join(coment_lem)\n",
    "    #coment = [nlp(str(palabra)) for palabra in coment]\n",
    "    coment_lem = nlp(str(coment_lem))\n",
    "    # Aplicamos la funcion para buscar la raiz de las palabras\n",
    "    coment_lem = [palabra.lemma_ for palabra in coment_lem]\n",
    "    #coment =  stemmer.stem(coment)\n",
    "\n",
    "    # Por ultimo volvemos a unir el titular\n",
    "    coment_lem = \" \".join(coment_lem)\n",
    "    \n",
    "    # Vamos armando una lista con todos los titulares\n",
    "    review_list_lem.append(coment_lem)"
   ]
  },
  {
   "cell_type": "markdown",
   "id": "personalized-jersey",
   "metadata": {},
   "source": [
    "### Creamos la columna con el texto limpio, la llamamos coment_lem"
   ]
  },
  {
   "cell_type": "code",
   "execution_count": 68,
   "id": "irish-sucking",
   "metadata": {},
   "outputs": [],
   "source": [
    "df_base[\"coment_lem\"] = review_list_lem"
   ]
  },
  {
   "cell_type": "code",
   "execution_count": 69,
   "id": "irish-maria",
   "metadata": {},
   "outputs": [],
   "source": [
    "dataset_lem=df_base.drop(columns=[\"product_category\",\"language\",\"product_id\",\"reviewer_id\",\"coment_stem\"])"
   ]
  },
  {
   "cell_type": "code",
   "execution_count": 70,
   "id": "floppy-consciousness",
   "metadata": {},
   "outputs": [
    {
     "data": {
      "text/html": [
       "<div>\n",
       "<style scoped>\n",
       "    .dataframe tbody tr th:only-of-type {\n",
       "        vertical-align: middle;\n",
       "    }\n",
       "\n",
       "    .dataframe tbody tr th {\n",
       "        vertical-align: top;\n",
       "    }\n",
       "\n",
       "    .dataframe thead th {\n",
       "        text-align: right;\n",
       "    }\n",
       "</style>\n",
       "<table border=\"1\" class=\"dataframe\">\n",
       "  <thead>\n",
       "    <tr style=\"text-align: right;\">\n",
       "      <th></th>\n",
       "      <th>index</th>\n",
       "      <th>stars</th>\n",
       "      <th>review_body</th>\n",
       "      <th>review_title</th>\n",
       "      <th>text_concat</th>\n",
       "      <th>coment_lem</th>\n",
       "    </tr>\n",
       "  </thead>\n",
       "  <tbody>\n",
       "    <tr>\n",
       "      <th>0</th>\n",
       "      <td>0</td>\n",
       "      <td>1</td>\n",
       "      <td>Nada bueno se me fue ka pantalla en menos de 8...</td>\n",
       "      <td>television Nevir</td>\n",
       "      <td>television Nevir Nada bueno se me fue ka panta...</td>\n",
       "      <td>television nevir bueno ka pantalla menos mesar...</td>\n",
       "    </tr>\n",
       "    <tr>\n",
       "      <th>1</th>\n",
       "      <td>1</td>\n",
       "      <td>1</td>\n",
       "      <td>Horrible, nos tuvimos que comprar otro porque ...</td>\n",
       "      <td>Dinero tirado a la basura con esta compra</td>\n",
       "      <td>Dinero tirado a la basura con esta compra Horr...</td>\n",
       "      <td>dinero tirar basura comprar horrible comprar s...</td>\n",
       "    </tr>\n",
       "    <tr>\n",
       "      <th>2</th>\n",
       "      <td>2</td>\n",
       "      <td>1</td>\n",
       "      <td>Te obligan a comprar dos unidades y te llega s...</td>\n",
       "      <td>solo llega una unidad cuando te obligan a comp...</td>\n",
       "      <td>solo llega una unidad cuando te obligan a comp...</td>\n",
       "      <td>solo llegar unidad obligar comprar do obligar ...</td>\n",
       "    </tr>\n",
       "    <tr>\n",
       "      <th>3</th>\n",
       "      <td>3</td>\n",
       "      <td>1</td>\n",
       "      <td>No entro en descalificar al vendedor, solo pue...</td>\n",
       "      <td>PRODUCTO NO RECIBIDO.</td>\n",
       "      <td>PRODUCTO NO RECIBIDO. No entro en descalificar...</td>\n",
       "      <td>producto recibir . entrar descalificar vendedo...</td>\n",
       "    </tr>\n",
       "    <tr>\n",
       "      <th>4</th>\n",
       "      <td>4</td>\n",
       "      <td>1</td>\n",
       "      <td>Llega tarde y co la talla equivocada</td>\n",
       "      <td>Devuelto</td>\n",
       "      <td>Devuelto Llega tarde y co la talla equivocada ...</td>\n",
       "      <td>devolver llegar tardar co tallar equivocar shoes</td>\n",
       "    </tr>\n",
       "    <tr>\n",
       "      <th>...</th>\n",
       "      <td>...</td>\n",
       "      <td>...</td>\n",
       "      <td>...</td>\n",
       "      <td>...</td>\n",
       "      <td>...</td>\n",
       "      <td>...</td>\n",
       "    </tr>\n",
       "    <tr>\n",
       "      <th>199995</th>\n",
       "      <td>199995</td>\n",
       "      <td>5</td>\n",
       "      <td>Mando funciona perfectamente y cumple con toda...</td>\n",
       "      <td>Tal y como se describe</td>\n",
       "      <td>Tal y como se describe Mando funciona perfecta...</td>\n",
       "      <td>tal describir mandar funcionar perfectamente c...</td>\n",
       "    </tr>\n",
       "    <tr>\n",
       "      <th>199996</th>\n",
       "      <td>199996</td>\n",
       "      <td>5</td>\n",
       "      <td>Compré la batería con cierta reticencia, pero ...</td>\n",
       "      <td>Funciona perfectamente</td>\n",
       "      <td>Funciona perfectamente Compré la batería con c...</td>\n",
       "      <td>funcionar perfectamente comprar bateria cierto...</td>\n",
       "    </tr>\n",
       "    <tr>\n",
       "      <th>199997</th>\n",
       "      <td>199997</td>\n",
       "      <td>5</td>\n",
       "      <td>Buena calidad. Satisfecha con la compra.</td>\n",
       "      <td>Buena calidad.</td>\n",
       "      <td>Buena calidad. Buena calidad. Satisfecha con l...</td>\n",
       "      <td>bueno calidad . bueno calidad . satisfacer com...</td>\n",
       "    </tr>\n",
       "    <tr>\n",
       "      <th>199998</th>\n",
       "      <td>199998</td>\n",
       "      <td>5</td>\n",
       "      <td>Perfecto para el cumple de mi hijo</td>\n",
       "      <td>Recomendado</td>\n",
       "      <td>Recomendado Perfecto para el cumple de mi hijo...</td>\n",
       "      <td>recomendar perfecto cumplir hijo toy</td>\n",
       "    </tr>\n",
       "    <tr>\n",
       "      <th>199999</th>\n",
       "      <td>199999</td>\n",
       "      <td>5</td>\n",
       "      <td>Súper bien! Las brochas son buenas, no sé meno...</td>\n",
       "      <td>Preciosas</td>\n",
       "      <td>Preciosas Súper bien! Las brochas son buenas, ...</td>\n",
       "      <td>precioso super bien ! brocha bueno menos caido...</td>\n",
       "    </tr>\n",
       "  </tbody>\n",
       "</table>\n",
       "<p>200000 rows × 6 columns</p>\n",
       "</div>"
      ],
      "text/plain": [
       "         index  stars                                        review_body  \\\n",
       "0            0      1  Nada bueno se me fue ka pantalla en menos de 8...   \n",
       "1            1      1  Horrible, nos tuvimos que comprar otro porque ...   \n",
       "2            2      1  Te obligan a comprar dos unidades y te llega s...   \n",
       "3            3      1  No entro en descalificar al vendedor, solo pue...   \n",
       "4            4      1               Llega tarde y co la talla equivocada   \n",
       "...        ...    ...                                                ...   \n",
       "199995  199995      5  Mando funciona perfectamente y cumple con toda...   \n",
       "199996  199996      5  Compré la batería con cierta reticencia, pero ...   \n",
       "199997  199997      5           Buena calidad. Satisfecha con la compra.   \n",
       "199998  199998      5                 Perfecto para el cumple de mi hijo   \n",
       "199999  199999      5  Súper bien! Las brochas son buenas, no sé meno...   \n",
       "\n",
       "                                             review_title  \\\n",
       "0                                        television Nevir   \n",
       "1               Dinero tirado a la basura con esta compra   \n",
       "2       solo llega una unidad cuando te obligan a comp...   \n",
       "3                                   PRODUCTO NO RECIBIDO.   \n",
       "4                                                Devuelto   \n",
       "...                                                   ...   \n",
       "199995                             Tal y como se describe   \n",
       "199996                             Funciona perfectamente   \n",
       "199997                                     Buena calidad.   \n",
       "199998                                        Recomendado   \n",
       "199999                                          Preciosas   \n",
       "\n",
       "                                              text_concat  \\\n",
       "0       television Nevir Nada bueno se me fue ka panta...   \n",
       "1       Dinero tirado a la basura con esta compra Horr...   \n",
       "2       solo llega una unidad cuando te obligan a comp...   \n",
       "3       PRODUCTO NO RECIBIDO. No entro en descalificar...   \n",
       "4       Devuelto Llega tarde y co la talla equivocada ...   \n",
       "...                                                   ...   \n",
       "199995  Tal y como se describe Mando funciona perfecta...   \n",
       "199996  Funciona perfectamente Compré la batería con c...   \n",
       "199997  Buena calidad. Buena calidad. Satisfecha con l...   \n",
       "199998  Recomendado Perfecto para el cumple de mi hijo...   \n",
       "199999  Preciosas Súper bien! Las brochas son buenas, ...   \n",
       "\n",
       "                                               coment_lem  \n",
       "0       television nevir bueno ka pantalla menos mesar...  \n",
       "1       dinero tirar basura comprar horrible comprar s...  \n",
       "2       solo llegar unidad obligar comprar do obligar ...  \n",
       "3       producto recibir . entrar descalificar vendedo...  \n",
       "4        devolver llegar tardar co tallar equivocar shoes  \n",
       "...                                                   ...  \n",
       "199995  tal describir mandar funcionar perfectamente c...  \n",
       "199996  funcionar perfectamente comprar bateria cierto...  \n",
       "199997  bueno calidad . bueno calidad . satisfacer com...  \n",
       "199998               recomendar perfecto cumplir hijo toy  \n",
       "199999  precioso super bien ! brocha bueno menos caido...  \n",
       "\n",
       "[200000 rows x 6 columns]"
      ]
     },
     "execution_count": 70,
     "metadata": {},
     "output_type": "execute_result"
    }
   ],
   "source": [
    "dataset_lem"
   ]
  },
  {
   "cell_type": "markdown",
   "id": "bright-valuation",
   "metadata": {},
   "source": [
    "### Ahora procederemos a vectorizar, elegimos TF IDF ya que nos dio mejores resultados que Count Vectorizer, tambien decidimos usar ngram range de 1,2 para que tome palabras compuestas como buena calidad, mala calidad."
   ]
  },
  {
   "cell_type": "code",
   "execution_count": 71,
   "id": "unlimited-execution",
   "metadata": {},
   "outputs": [],
   "source": [
    "list_titulos = list(dataset_lem['coment_lem'].values)\n",
    "stars = dataset_lem['stars'].values"
   ]
  },
  {
   "cell_type": "code",
   "execution_count": 72,
   "id": "encouraging-digest",
   "metadata": {},
   "outputs": [],
   "source": [
    "# Usaremos solo las 5000 palabras con mas frecuencia en todo el corpus para generar los vectores\n",
    "max_features=5000\n",
    "\n",
    "# Es decir que cada instancia tendrá 5000 features\n",
    "#cou_vec=CountVectorizer(max_features=max_features, ngram_range=(1, 2),stop_words=stopwords_es) # stop_words=\"english\" , ngram_range=(1, 2)\n",
    "vectorizer = TfidfVectorizer(max_features=max_features,ngram_range=(1, 2),stop_words=stopwords_es,strip_accents=ascii)"
   ]
  },
  {
   "cell_type": "code",
   "execution_count": 73,
   "id": "strange-combine",
   "metadata": {},
   "outputs": [
    {
     "name": "stderr",
     "output_type": "stream",
     "text": [
      "C:\\Users\\Lucas\\miniconda3\\envs\\ds2\\lib\\site-packages\\sklearn\\feature_extraction\\text.py:383: UserWarning: Your stop_words may be inconsistent with your preprocessing. Tokenizing the stop words generated tokens ['est', 'estuvi', 'fu', 'hab', 'habr', 'hubi', 'qu', 'ser', 'tambi', 'ten', 'tendr', 'teng', 'tuvi', 'xe1', 'xe1bamos', 'xe1is', 'xe1n', 'xe1s', 'xe9', 'xe9is', 'xe9l', 'xe9n', 'xe9ramos', 'xe9s', 'xe9semos', 'xed', 'xeda', 'xedais', 'xedamos', 'xedan', 'xedas', 'xedo', 'xedos', 'xfa'] not in stop_words.\n",
      "  warnings.warn('Your stop_words may be inconsistent with '\n"
     ]
    },
    {
     "name": "stdout",
     "output_type": "stream",
     "text": [
      "100 primeras palabras:  ['U0001f44d', 'U0001f44e', 'abajar', 'abollar', 'abonar', 'abri', 'abrigar', 'abril', 'abrir', 'abrir caja', 'abrir cerrar', 'abrir paquete', 'abrirla', 'abrirlo', 'absolutamente', 'absoluto', 'absorber', 'abultar', 'aburrir', 'acabar', 'acabar bueno', 'acabar comprar', 'acabar llegar', 'acabar recibir', 'acaso', 'acceder', 'acceso', 'accesorio', 'accion', 'aceitar', 'aceite', 'aceptable', 'aceptable preciar', 'aceptar', 'acerar', 'acerar inoxidable', 'acercar', 'acertar', 'aclarar', 'acolchar', 'acompan', 'acondicionar', 'aconsejable', 'aconsejar', 'aconsejar comprar', 'acoplar', 'acoplar bien', 'acordar', 'acorde', 'acorde preciar', 'acostumbrar', 'activar', 'actividad', 'activo', 'actual', 'actualizacion', 'actualizar', 'acuario', 'acumular', 'adaptable', 'adaptacion', 'adaptador', 'adaptar', 'adaptar bien', 'adaptar perfectamente', 'adecuadamente', 'adecuar', 'adelantar', 'ademar', 'ademar llegar', 'ademar poder', 'ademar ser', 'ademar venir', 'adherencia', 'adherir', 'adherir bien', 'adhesivo', 'adicional', 'adjuntar', 'adjuntar foto', 'admitir', 'adolescente', 'adornar', 'adquiri', 'adquirir', 'adulto', 'afectar', 'afecto', 'afeitar', 'afilar', 'aflojar', 'agarrar', 'agarrar bien', 'agenciar', 'agenda', 'agostar', 'agotar', 'agradable', 'agradable tacto', 'agradecer']\n"
     ]
    }
   ],
   "source": [
    "matriz_titulos = vectorizer.fit_transform(list_titulos)\n",
    "\n",
    "# Tomamos las palabras\n",
    "all_words = vectorizer.get_feature_names()\n",
    "\n",
    "# Vizualizamos las 100 primeras palabras\n",
    "print(\"100 primeras palabras: \",all_words[0:100])"
   ]
  },
  {
   "cell_type": "code",
   "execution_count": 74,
   "id": "persistent-exploration",
   "metadata": {},
   "outputs": [
    {
     "data": {
      "text/plain": [
       "array([[0., 0., 0., ..., 0., 0., 0.],\n",
       "       [0., 0., 0., ..., 0., 0., 0.],\n",
       "       [0., 0., 0., ..., 0., 0., 0.],\n",
       "       ...,\n",
       "       [0., 0., 0., ..., 0., 0., 0.],\n",
       "       [0., 0., 0., ..., 0., 0., 0.],\n",
       "       [0., 0., 0., ..., 0., 0., 0.]], dtype=float16)"
      ]
     },
     "execution_count": 74,
     "metadata": {},
     "output_type": "execute_result"
    }
   ],
   "source": [
    "matriz_titulos.toarray().astype(\"float16\") # Pasamos a float 16 porque sino no figura un error por la memoria"
   ]
  },
  {
   "cell_type": "markdown",
   "id": "altered-stanford",
   "metadata": {},
   "source": [
    "## Modelamos tomando la matriz como X y star como Y. Usamos train_test_split para dividir el dataset y entrenarlo"
   ]
  },
  {
   "cell_type": "code",
   "execution_count": 79,
   "id": "cubic-sunday",
   "metadata": {},
   "outputs": [],
   "source": [
    "x = matriz_titulos.toarray()\n",
    "y = stars\n",
    "\n",
    "from sklearn.model_selection import train_test_split\n",
    "xtrain, xtest, ytrain, ytest = train_test_split(x,y,test_size=0.3,random_state=42,stratify=y)"
   ]
  },
  {
   "cell_type": "markdown",
   "id": "floating-thesis",
   "metadata": {},
   "source": [
    "## Entrenamos con el texto lemmatizado"
   ]
  },
  {
   "cell_type": "markdown",
   "id": "pediatric-russell",
   "metadata": {},
   "source": [
    "## ARBOL DE DECISION (BENCHMARK)"
   ]
  },
  {
   "cell_type": "code",
   "execution_count": 76,
   "id": "baking-garden",
   "metadata": {},
   "outputs": [
    {
     "name": "stdout",
     "output_type": "stream",
     "text": [
      "acc:  0.4088333333333333\n"
     ]
    }
   ],
   "source": [
    "tree = DecisionTreeClassifier(max_depth = 30, random_state=42)\n",
    "tree.fit(xtrain,ytrain)\n",
    "print(\"acc: \",tree.score(xtest,ytest))"
   ]
  },
  {
   "cell_type": "markdown",
   "id": "stuffed-christian",
   "metadata": {},
   "source": [
    "## MODELOS"
   ]
  },
  {
   "cell_type": "code",
   "execution_count": 80,
   "id": "annual-religion",
   "metadata": {},
   "outputs": [
    {
     "name": "stdout",
     "output_type": "stream",
     "text": [
      "Modelo: LinearSVC\n",
      "acc :   0.5165333333333333\n"
     ]
    },
    {
     "data": {
      "image/png": "[encoded data removed]",
      "text/plain": [
       "<Figure size 360x360 with 2 Axes>"
      ]
     },
     "metadata": {
      "needs_background": "light"
     },
     "output_type": "display_data"
    },
    {
     "name": "stdout",
     "output_type": "stream",
     "text": [
      "Modelo: Random Forest\n",
      "acc :   0.49116666666666664\n"
     ]
    },
    {
     "data": {
      "image/png": "[encoded data removed]",
      "text/plain": [
       "<Figure size 360x360 with 2 Axes>"
      ]
     },
     "metadata": {
      "needs_background": "light"
     },
     "output_type": "display_data"
    },
    {
     "name": "stdout",
     "output_type": "stream",
     "text": [
      "Modelo: Regresión Logística\n",
      "acc :   0.5268666666666667\n"
     ]
    },
    {
     "data": {
      "image/png": "[encoded data removed]",
      "text/plain": [
       "<Figure size 360x360 with 2 Axes>"
      ]
     },
     "metadata": {
      "needs_background": "light"
     },
     "output_type": "display_data"
    }
   ],
   "source": [
    "seleccion_modelo(xtrain, xtest, ytrain, ytest)"
   ]
  },
  {
   "cell_type": "markdown",
   "id": "endangered-prescription",
   "metadata": {},
   "source": [
    "## Comparacion de metricas"
   ]
  },
  {
   "cell_type": "code",
   "execution_count": 70,
   "id": "brazilian-kingdom",
   "metadata": {},
   "outputs": [
    {
     "data": {
      "text/html": [
       "<div>\n",
       "<style scoped>\n",
       "    .dataframe tbody tr th:only-of-type {\n",
       "        vertical-align: middle;\n",
       "    }\n",
       "\n",
       "    .dataframe tbody tr th {\n",
       "        vertical-align: top;\n",
       "    }\n",
       "\n",
       "    .dataframe thead th {\n",
       "        text-align: right;\n",
       "    }\n",
       "</style>\n",
       "<table border=\"1\" class=\"dataframe\">\n",
       "  <thead>\n",
       "    <tr style=\"text-align: right;\">\n",
       "      <th></th>\n",
       "      <th>Acc_Lema</th>\n",
       "      <th>Acc_Stem</th>\n",
       "    </tr>\n",
       "  </thead>\n",
       "  <tbody>\n",
       "    <tr>\n",
       "      <th>Arbol de decision(Benchmarck)</th>\n",
       "      <td>0.4088</td>\n",
       "      <td>0.4093</td>\n",
       "    </tr>\n",
       "    <tr>\n",
       "      <th>Random Forest</th>\n",
       "      <td>0.4911</td>\n",
       "      <td>0.4951</td>\n",
       "    </tr>\n",
       "    <tr>\n",
       "      <th>Linear SVC</th>\n",
       "      <td>0.5165</td>\n",
       "      <td>0.5150</td>\n",
       "    </tr>\n",
       "    <tr>\n",
       "      <th>Regresion logistica</th>\n",
       "      <td>0.5268</td>\n",
       "      <td>0.5248</td>\n",
       "    </tr>\n",
       "  </tbody>\n",
       "</table>\n",
       "</div>"
      ],
      "text/plain": [
       "                               Acc_Lema  Acc_Stem\n",
       "Arbol de decision(Benchmarck)    0.4088    0.4093\n",
       "Random Forest                    0.4911    0.4951\n",
       "Linear SVC                       0.5165    0.5150\n",
       "Regresion logistica              0.5268    0.5248"
      ]
     },
     "execution_count": 70,
     "metadata": {},
     "output_type": "execute_result"
    }
   ],
   "source": [
    "metricas= [[0.4088, 0.4093],\n",
    "         [0.4911, 0.4951],\n",
    "         [ 0.5165, 0.5150],\n",
    "          [ 0.5268, 0.5248]]\n",
    "\n",
    "columnas = ['Acc_Lema', 'Acc_Stem'] # definimos los nombres de las columnas\n",
    "filas = ['Arbol de decision(Benchmarck)', 'Random Forest', 'Linear SVC' , 'Regresion logistica'] # definimos los nombres de las filas\n",
    "\n",
    "comparacion = pd.DataFrame(metricas, columns=columnas, index=filas)\n",
    "comparacion.head()"
   ]
  },
  {
   "cell_type": "markdown",
   "id": "suspected-package",
   "metadata": {},
   "source": [
    "### Analisis de metricas : Podemos ver que los todos los modelos superaron al seleccionado como benchmark,y que con ambas maneras (Lemmatization y Stemming) se llega a resultados similares en los modelos, queda la Regresion logistica con el mejor score de accuracy que llego a 0.5268, por lo cual elegiria este modelo para trabajar\n",
    "### Analisis de matrices de confusion: Podemos observar que en todos los modelos paso algo similar, que es que acierta mucho en los extremos (1 y 5) al ser tan opuestos, y que tiende a confundirse en el medio (2 ,3 y 4 estrellas)"
   ]
  },
  {
   "cell_type": "markdown",
   "id": "funky-lawyer",
   "metadata": {},
   "source": [
    "# CONCLUSIONES Y COMENTARIOS"
   ]
  },
  {
   "cell_type": "markdown",
   "id": "welcome-vessel",
   "metadata": {},
   "source": [
    " A lo largo del proyecto pude aprender diferentes tecnicas y procesos como limpiar el texto quitando o dejando acentos, numeros, etc. Me parecio interesante intentar de las dos maneras (lema-stem) para ver como se comportaban los datos.\n",
    " Pude observar que las librerias son muy buenas, pero encontre complicaciones al ser el texto en espanol, lo cual seguro ira mejorando.\n",
    " \n",
    " En cuanto a los modelos, esperaba que el mejor fuese random forest para la clasificacion, y fue una sorpresa ver que predecia mejor la regresion logistica. Lo mismo con la optimizacion de los parametros, pense que mejoraria la metrica sobre todo despues de tanta espera, pero no fue bueno en este caso.\n",
    " \n",
    " En las consignas se planteaba la idea de armar una calificacion binaria (buena o mala calificacion), por el analisis de las matrices de confusiones esto ayudaria, ya que sacariamos los puntos medios que es lo que complica el modelo, pero anteriormente aprendimos que seria incorrecto ya que para darle una calificacion binaria de buena o mala deberiamos antes tener las estrellas (variable a predecir), tambien que al estar balanceado y ser 5 estrellas, quedaria muy subjetiva la eleccion de la calificacion de tres estrellas.\n",
    " \n",
    " A mejorar : Me enfocaria mas en la limpieza del texto, pude observar que un problema de la libreria para lematizar es que tiene en cuenta los acentos para unificar las palabras, por ejemplo: Abri, abrio, abrir deberian quedar como \"abrir\" pero al no tener acento no las toma correctamente, creo que esto mejoraria el modelo. Tambien utilizar modelos de deep learning, por ejemplo redes neuronales para mejorar nuestras metricas, tambien otro vectorizador como por ejemplo Word2Vec.\n",
    " \n",
    " Debo destacar que tuve mucho costo computacional con el dataset de 200000 instancias, tardo mucho (13 hs) en entrenar los modelos y hacer la optimizacion de hiperparametros (en principio habia seleccionado 5 folds y lo baje a 3)."
   ]
  }
 ],
 "metadata": {
  "kernelspec": {
   "display_name": "Python 3",
   "language": "python",
   "name": "python3"
  },
  "language_info": {
   "codemirror_mode": {
    "name": "ipython",
    "version": 3
   },
   "file_extension": ".py",
   "mimetype": "text/x-python",
   "name": "python",
   "nbconvert_exporter": "python",
   "pygments_lexer": "ipython3",
   "version": "3.8.8"
  }
 },
 "nbformat": 4,
 "nbformat_minor": 5
}
